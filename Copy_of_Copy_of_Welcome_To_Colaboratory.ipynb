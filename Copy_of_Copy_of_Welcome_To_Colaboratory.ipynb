{
  "cells": [
    {
      "cell_type": "markdown",
      "metadata": {
        "id": "view-in-github",
        "colab_type": "text"
      },
      "source": [
        "<a href=\"https://colab.research.google.com/github/Dakshina04/wad-lab/blob/main/Copy_of_Copy_of_Welcome_To_Colaboratory.ipynb\" target=\"_parent\"><img src=\"https://colab.research.google.com/assets/colab-badge.svg\" alt=\"Open In Colab\"/></a>"
      ]
    },
    {
      "cell_type": "code",
      "source": [
        " #Assignment -1 and 2\n",
        " #NAME =DEV SHAH\n",
        " #PRN  = 2020033800115044\n",
        " #roll_num =98\n"
      ],
      "metadata": {
        "id": "VhX6jubNC1t2"
      },
      "execution_count": null,
      "outputs": []
    },
    {
      "cell_type": "code",
      "source": [
        "import pandas as pd\n",
        "import numpy\n",
        "import seaborn as sns\n",
        "import matplotlib.pyplot as plt"
      ],
      "metadata": {
        "id": "7w8-GN63EBtO"
      },
      "execution_count": null,
      "outputs": []
    },
    {
      "cell_type": "code",
      "source": [
        "df = pd.read_csv(\"/content/College.csv\")"
      ],
      "metadata": {
        "id": "lstAY0iCI7xR"
      },
      "execution_count": null,
      "outputs": []
    },
    {
      "cell_type": "code",
      "source": [
        "df.head(5)\n"
      ],
      "metadata": {
        "colab": {
          "base_uri": "https://localhost:8080/",
          "height": 357
        },
        "id": "7VJx8HJ9JXDP",
        "outputId": "85a3fc40-715d-43b1-9f2d-70e7b65161b9"
      },
      "execution_count": null,
      "outputs": [
        {
          "output_type": "execute_result",
          "data": {
            "text/plain": [
              "  type_school school_accreditation  gender         interest residence  \\\n",
              "0    Academic                    A    Male  Less Interested     Urban   \n",
              "1    Academic                    A    Male  Less Interested     Urban   \n",
              "2    Academic                    B  Female  Very Interested     Urban   \n",
              "3  Vocational                    B    Male  Very Interested     Rural   \n",
              "4    Academic                    A  Female  Very Interested     Urban   \n",
              "\n",
              "   parent_age  parent_salary  house_area  average_grades  \\\n",
              "0          56        6950000        83.0           84.09   \n",
              "1          57        4410000        76.8           86.91   \n",
              "2          50        6500000        80.6           87.43   \n",
              "3          49        6600000        78.2           82.12   \n",
              "4          57        5250000        75.1           86.79   \n",
              "\n",
              "   parent_was_in_college  in_college  \n",
              "0                  False        True  \n",
              "1                  False        True  \n",
              "2                  False        True  \n",
              "3                   True        True  \n",
              "4                  False       False  "
            ],
            "text/html": [
              "\n",
              "  <div id=\"df-6ba4f8bb-1715-4fc6-a4f2-1b6502c2974e\">\n",
              "    <div class=\"colab-df-container\">\n",
              "      <div>\n",
              "<style scoped>\n",
              "    .dataframe tbody tr th:only-of-type {\n",
              "        vertical-align: middle;\n",
              "    }\n",
              "\n",
              "    .dataframe tbody tr th {\n",
              "        vertical-align: top;\n",
              "    }\n",
              "\n",
              "    .dataframe thead th {\n",
              "        text-align: right;\n",
              "    }\n",
              "</style>\n",
              "<table border=\"1\" class=\"dataframe\">\n",
              "  <thead>\n",
              "    <tr style=\"text-align: right;\">\n",
              "      <th></th>\n",
              "      <th>type_school</th>\n",
              "      <th>school_accreditation</th>\n",
              "      <th>gender</th>\n",
              "      <th>interest</th>\n",
              "      <th>residence</th>\n",
              "      <th>parent_age</th>\n",
              "      <th>parent_salary</th>\n",
              "      <th>house_area</th>\n",
              "      <th>average_grades</th>\n",
              "      <th>parent_was_in_college</th>\n",
              "      <th>in_college</th>\n",
              "    </tr>\n",
              "  </thead>\n",
              "  <tbody>\n",
              "    <tr>\n",
              "      <th>0</th>\n",
              "      <td>Academic</td>\n",
              "      <td>A</td>\n",
              "      <td>Male</td>\n",
              "      <td>Less Interested</td>\n",
              "      <td>Urban</td>\n",
              "      <td>56</td>\n",
              "      <td>6950000</td>\n",
              "      <td>83.0</td>\n",
              "      <td>84.09</td>\n",
              "      <td>False</td>\n",
              "      <td>True</td>\n",
              "    </tr>\n",
              "    <tr>\n",
              "      <th>1</th>\n",
              "      <td>Academic</td>\n",
              "      <td>A</td>\n",
              "      <td>Male</td>\n",
              "      <td>Less Interested</td>\n",
              "      <td>Urban</td>\n",
              "      <td>57</td>\n",
              "      <td>4410000</td>\n",
              "      <td>76.8</td>\n",
              "      <td>86.91</td>\n",
              "      <td>False</td>\n",
              "      <td>True</td>\n",
              "    </tr>\n",
              "    <tr>\n",
              "      <th>2</th>\n",
              "      <td>Academic</td>\n",
              "      <td>B</td>\n",
              "      <td>Female</td>\n",
              "      <td>Very Interested</td>\n",
              "      <td>Urban</td>\n",
              "      <td>50</td>\n",
              "      <td>6500000</td>\n",
              "      <td>80.6</td>\n",
              "      <td>87.43</td>\n",
              "      <td>False</td>\n",
              "      <td>True</td>\n",
              "    </tr>\n",
              "    <tr>\n",
              "      <th>3</th>\n",
              "      <td>Vocational</td>\n",
              "      <td>B</td>\n",
              "      <td>Male</td>\n",
              "      <td>Very Interested</td>\n",
              "      <td>Rural</td>\n",
              "      <td>49</td>\n",
              "      <td>6600000</td>\n",
              "      <td>78.2</td>\n",
              "      <td>82.12</td>\n",
              "      <td>True</td>\n",
              "      <td>True</td>\n",
              "    </tr>\n",
              "    <tr>\n",
              "      <th>4</th>\n",
              "      <td>Academic</td>\n",
              "      <td>A</td>\n",
              "      <td>Female</td>\n",
              "      <td>Very Interested</td>\n",
              "      <td>Urban</td>\n",
              "      <td>57</td>\n",
              "      <td>5250000</td>\n",
              "      <td>75.1</td>\n",
              "      <td>86.79</td>\n",
              "      <td>False</td>\n",
              "      <td>False</td>\n",
              "    </tr>\n",
              "  </tbody>\n",
              "</table>\n",
              "</div>\n",
              "      <button class=\"colab-df-convert\" onclick=\"convertToInteractive('df-6ba4f8bb-1715-4fc6-a4f2-1b6502c2974e')\"\n",
              "              title=\"Convert this dataframe to an interactive table.\"\n",
              "              style=\"display:none;\">\n",
              "        \n",
              "  <svg xmlns=\"http://www.w3.org/2000/svg\" height=\"24px\"viewBox=\"0 0 24 24\"\n",
              "       width=\"24px\">\n",
              "    <path d=\"M0 0h24v24H0V0z\" fill=\"none\"/>\n",
              "    <path d=\"M18.56 5.44l.94 2.06.94-2.06 2.06-.94-2.06-.94-.94-2.06-.94 2.06-2.06.94zm-11 1L8.5 8.5l.94-2.06 2.06-.94-2.06-.94L8.5 2.5l-.94 2.06-2.06.94zm10 10l.94 2.06.94-2.06 2.06-.94-2.06-.94-.94-2.06-.94 2.06-2.06.94z\"/><path d=\"M17.41 7.96l-1.37-1.37c-.4-.4-.92-.59-1.43-.59-.52 0-1.04.2-1.43.59L10.3 9.45l-7.72 7.72c-.78.78-.78 2.05 0 2.83L4 21.41c.39.39.9.59 1.41.59.51 0 1.02-.2 1.41-.59l7.78-7.78 2.81-2.81c.8-.78.8-2.07 0-2.86zM5.41 20L4 18.59l7.72-7.72 1.47 1.35L5.41 20z\"/>\n",
              "  </svg>\n",
              "      </button>\n",
              "      \n",
              "  <style>\n",
              "    .colab-df-container {\n",
              "      display:flex;\n",
              "      flex-wrap:wrap;\n",
              "      gap: 12px;\n",
              "    }\n",
              "\n",
              "    .colab-df-convert {\n",
              "      background-color: #E8F0FE;\n",
              "      border: none;\n",
              "      border-radius: 50%;\n",
              "      cursor: pointer;\n",
              "      display: none;\n",
              "      fill: #1967D2;\n",
              "      height: 32px;\n",
              "      padding: 0 0 0 0;\n",
              "      width: 32px;\n",
              "    }\n",
              "\n",
              "    .colab-df-convert:hover {\n",
              "      background-color: #E2EBFA;\n",
              "      box-shadow: 0px 1px 2px rgba(60, 64, 67, 0.3), 0px 1px 3px 1px rgba(60, 64, 67, 0.15);\n",
              "      fill: #174EA6;\n",
              "    }\n",
              "\n",
              "    [theme=dark] .colab-df-convert {\n",
              "      background-color: #3B4455;\n",
              "      fill: #D2E3FC;\n",
              "    }\n",
              "\n",
              "    [theme=dark] .colab-df-convert:hover {\n",
              "      background-color: #434B5C;\n",
              "      box-shadow: 0px 1px 3px 1px rgba(0, 0, 0, 0.15);\n",
              "      filter: drop-shadow(0px 1px 2px rgba(0, 0, 0, 0.3));\n",
              "      fill: #FFFFFF;\n",
              "    }\n",
              "  </style>\n",
              "\n",
              "      <script>\n",
              "        const buttonEl =\n",
              "          document.querySelector('#df-6ba4f8bb-1715-4fc6-a4f2-1b6502c2974e button.colab-df-convert');\n",
              "        buttonEl.style.display =\n",
              "          google.colab.kernel.accessAllowed ? 'block' : 'none';\n",
              "\n",
              "        async function convertToInteractive(key) {\n",
              "          const element = document.querySelector('#df-6ba4f8bb-1715-4fc6-a4f2-1b6502c2974e');\n",
              "          const dataTable =\n",
              "            await google.colab.kernel.invokeFunction('convertToInteractive',\n",
              "                                                     [key], {});\n",
              "          if (!dataTable) return;\n",
              "\n",
              "          const docLinkHtml = 'Like what you see? Visit the ' +\n",
              "            '<a target=\"_blank\" href=https://colab.research.google.com/notebooks/data_table.ipynb>data table notebook</a>'\n",
              "            + ' to learn more about interactive tables.';\n",
              "          element.innerHTML = '';\n",
              "          dataTable['output_type'] = 'display_data';\n",
              "          await google.colab.output.renderOutput(dataTable, element);\n",
              "          const docLink = document.createElement('div');\n",
              "          docLink.innerHTML = docLinkHtml;\n",
              "          element.appendChild(docLink);\n",
              "        }\n",
              "      </script>\n",
              "    </div>\n",
              "  </div>\n",
              "  "
            ]
          },
          "metadata": {},
          "execution_count": 10
        }
      ]
    },
    {
      "cell_type": "code",
      "source": [
        "df.info\n"
      ],
      "metadata": {
        "colab": {
          "base_uri": "https://localhost:8080/"
        },
        "id": "ZICc5fdUKYFB",
        "outputId": "9a950f9a-5ae1-4c85-ee4b-096fc3871cbc"
      },
      "execution_count": null,
      "outputs": [
        {
          "output_type": "execute_result",
          "data": {
            "text/plain": [
              "<bound method DataFrame.info of     type_school school_accreditation  gender          interest residence  \\\n",
              "0      Academic                    A    Male   Less Interested     Urban   \n",
              "1      Academic                    A    Male   Less Interested     Urban   \n",
              "2      Academic                    B  Female   Very Interested     Urban   \n",
              "3    Vocational                    B    Male   Very Interested     Rural   \n",
              "4      Academic                    A  Female   Very Interested     Urban   \n",
              "..          ...                  ...     ...               ...       ...   \n",
              "995  Vocational                    A  Female   Very Interested     Rural   \n",
              "996    Academic                    B  Female   Less Interested     Rural   \n",
              "997  Vocational                    A    Male   Less Interested     Urban   \n",
              "998    Academic                    B    Male         Uncertain     Rural   \n",
              "999    Academic                    B    Male  Quiet Interested     Urban   \n",
              "\n",
              "     parent_age  parent_salary  house_area  average_grades  \\\n",
              "0            56        6950000        83.0           84.09   \n",
              "1            57        4410000        76.8           86.91   \n",
              "2            50        6500000        80.6           87.43   \n",
              "3            49        6600000        78.2           82.12   \n",
              "4            57        5250000        75.1           86.79   \n",
              "..          ...            ...         ...             ...   \n",
              "995          49        7420000        63.6           85.99   \n",
              "996          51        7480000        84.3           89.72   \n",
              "997          49        5550000        75.2           79.56   \n",
              "998          53        5840000       105.8           87.18   \n",
              "999          50        2940000        69.1           86.13   \n",
              "\n",
              "     parent_was_in_college  in_college  \n",
              "0                    False        True  \n",
              "1                    False        True  \n",
              "2                    False        True  \n",
              "3                     True        True  \n",
              "4                    False       False  \n",
              "..                     ...         ...  \n",
              "995                   True        True  \n",
              "996                   True        True  \n",
              "997                  False        True  \n",
              "998                   True        True  \n",
              "999                   True       False  \n",
              "\n",
              "[1000 rows x 11 columns]>"
            ]
          },
          "metadata": {},
          "execution_count": 8
        }
      ]
    },
    {
      "cell_type": "code",
      "source": [
        "df.shape\n"
      ],
      "metadata": {
        "colab": {
          "base_uri": "https://localhost:8080/"
        },
        "id": "Gu6GahENKhoj",
        "outputId": "98a79c8a-b46b-4657-c349-6d6990509a70"
      },
      "execution_count": null,
      "outputs": [
        {
          "output_type": "execute_result",
          "data": {
            "text/plain": [
              "(1000, 11)"
            ]
          },
          "metadata": {},
          "execution_count": 9
        }
      ]
    },
    {
      "cell_type": "code",
      "source": [
        "df['house_area'].isnull().values.any()"
      ],
      "metadata": {
        "colab": {
          "base_uri": "https://localhost:8080/"
        },
        "id": "KDRDrgriKl4s",
        "outputId": "f2a9134a-1b7f-424a-96c3-9991eea28bfa"
      },
      "execution_count": null,
      "outputs": [
        {
          "output_type": "execute_result",
          "data": {
            "text/plain": [
              "False"
            ]
          },
          "metadata": {},
          "execution_count": 11
        }
      ]
    },
    {
      "cell_type": "code",
      "source": [
        "df.isnull().values.any()"
      ],
      "metadata": {
        "colab": {
          "base_uri": "https://localhost:8080/"
        },
        "id": "97fdmkDrKuK2",
        "outputId": "071af043-cdfc-4f6d-9364-5557705ec0d2"
      },
      "execution_count": null,
      "outputs": [
        {
          "output_type": "execute_result",
          "data": {
            "text/plain": [
              "False"
            ]
          },
          "metadata": {},
          "execution_count": 12
        }
      ]
    },
    {
      "cell_type": "code",
      "source": [
        "for col in df:\n",
        " print(col)"
      ],
      "metadata": {
        "colab": {
          "base_uri": "https://localhost:8080/"
        },
        "id": "Ug2a7FwCKxw6",
        "outputId": "3c3196c5-e445-44e7-c137-9571dd578585"
      },
      "execution_count": null,
      "outputs": [
        {
          "output_type": "stream",
          "name": "stdout",
          "text": [
            "type_school\n",
            "school_accreditation\n",
            "gender\n",
            "interest\n",
            "residence\n",
            "parent_age\n",
            "parent_salary\n",
            "house_area\n",
            "average_grades\n",
            "parent_was_in_college\n",
            "in_college\n"
          ]
        }
      ]
    },
    {
      "cell_type": "code",
      "source": [
        "for col in df:\n",
        " print(df[col].unique())"
      ],
      "metadata": {
        "colab": {
          "base_uri": "https://localhost:8080/"
        },
        "id": "pQgf-_9AK2Aa",
        "outputId": "5fbcb7cb-0771-4c32-db1f-44f94be7c5db"
      },
      "execution_count": null,
      "outputs": [
        {
          "output_type": "stream",
          "name": "stdout",
          "text": [
            "['Academic' 'Vocational']\n",
            "['A' 'B']\n",
            "['Male' 'Female']\n",
            "['Less Interested' 'Very Interested' 'Uncertain' 'Not Interested'\n",
            " 'Quiet Interested']\n",
            "['Urban' 'Rural']\n",
            "[56 57 50 49 48 52 53 47 51 60 54 55 46 58 41 59 43 42 44 64 61 40 45 62\n",
            " 65]\n",
            "[ 6950000  4410000  6500000  6600000  5250000  3770000  6680000  5890000\n",
            "  6730000  3880000  5680000  5950000  6930000  7130000  3370000  6940000\n",
            "  3970000  6790000  7180000  4090000  2600000  3900000  4250000  6400000\n",
            "  5760000  4950000  4720000  4890000  6450000  6470000  5080000  3230000\n",
            "  6130000  5700000  5900000  6610000  5940000  7310000  4660000  5630000\n",
            "  5550000  5570000  2660000  4740000  7260000  7460000  6110000  5930000\n",
            "  3850000  6540000  4880000  4590000  6390000  7610000  3760000  6220000\n",
            "  6210000  4800000  5840000  5610000  5620000  6300000  5720000  6200000\n",
            "  6700000  4100000  3200000  7570000  4200000  4500000  5750000  8390000\n",
            "  6550000  4730000  5540000  5030000  5920000  3990000  5280000  6090000\n",
            "  7040000  5420000  5510000  3240000  6650000  4070000  9110000  7480000\n",
            "  5740000  6020000  6460000  3520000  3100000  5050000  5430000  4760000\n",
            "  6370000  4370000  5200000  2960000  8160000  4540000  7790000  7510000\n",
            "  6030000  4260000  2920000  4150000  7700000  6710000  6990000  5230000\n",
            "  7200000  3430000  4850000  3510000  5650000  2780000  6380000  5070000\n",
            "  4190000  4930000  4510000  3320000  8120000  6360000  3980000  5710000\n",
            "  5670000  8080000  4840000  5020000  7080000  5390000  3610000  6750000\n",
            "  6960000  3680000  4640000  3650000  3700000  6160000  2910000  3360000\n",
            "  8290000  1830000  4180000  6140000  5340000  5310000  7430000  4830000\n",
            "  5690000  5410000  5490000  3660000  5110000  4550000  5120000  4340000\n",
            "  5530000  5580000  5370000  5790000  4440000  4940000  3720000  5470000\n",
            "  7640000  5810000  6280000  6010000  5320000  4970000  3010000  8020000\n",
            "  3860000  5980000  7550000  4330000  4170000  5730000  6040000  6580000\n",
            "  5190000  6150000  4560000  8400000  7960000  3830000  6290000  5350000\n",
            "  6570000  6410000  2810000  4230000  4160000  7880000  6070000  2730000\n",
            "  4920000  7090000  6060000  3340000  2160000  3040000  6340000  5040000\n",
            "  5060000  3780000  7230000  7900000  4120000  5860000  2940000  6740000\n",
            "  1660000  3210000  6720000  3540000  5290000  7710000  6630000  4020000\n",
            "  8370000  5660000  5460000  4980000  6910000  5520000  4450000  3440000\n",
            "  3310000  4110000  3380000  6530000  5780000  3800000  3390000  5100000\n",
            "  6920000  4010000  4360000  3640000  5560000  8650000  3810000  6250000\n",
            "  3260000  5140000  6230000  4860000  5240000  5480000  6800000  6490000\n",
            "  4600000  5500000  6690000  5090000  3470000  6840000  3070000  5170000\n",
            "  7320000  6670000  2450000  3890000  5010000  3460000  5770000  4390000\n",
            "  6900000  3030000  7120000  5870000  4480000  3090000  4350000  8380000\n",
            "  4650000  3920000  3020000  6440000  3110000  6190000  4420000  6180000\n",
            "  5360000  6860000  9410000  3280000  3740000  4060000  3940000  5910000\n",
            "  1790000  2740000  4910000  7300000  7220000  6480000  4530000  8430000\n",
            " 10000000  6120000  4700000  1770000  7160000  2820000  8280000  4680000\n",
            "  7400000  3180000  4290000  3450000  7540000  6310000  7000000  4810000\n",
            "  4000000  5130000  3750000  7390000  5440000  5850000  3550000  4490000\n",
            "  6420000  5220000  5990000  6590000  2790000  6520000  4710000  3910000\n",
            "  2140000  5450000  5970000  7650000  4240000  7100000  3500000  4750000\n",
            "  4030000  5000000  3950000  7250000  7490000  7780000  3790000  7420000\n",
            "  6640000  6080000  6050000  8140000  3300000  2570000  3690000  7050000\n",
            "  7580000  2900000  8470000  6560000  5210000  5830000  6660000  6240000\n",
            "  4520000  3410000  5640000  7350000  4460000  5330000  4820000  1880000\n",
            "  1940000  3160000  5400000  7530000  4670000  4320000  5260000  7750000\n",
            "  3670000  7450000  7950000  5300000  7410000  8100000  7670000  6820000\n",
            "  7620000  4210000  4900000  6270000  4470000  4310000  4780000  5270000\n",
            "  6170000  5180000  2590000  3490000  7330000  2990000  4280000  4380000\n",
            "  4630000  8010000  2830000  3570000  3130000  7590000  3580000  7170000\n",
            "  5960000  7030000  7010000  5150000  4130000  6320000  4960000  3630000\n",
            "  3350000  8930000  7370000  7500000  6770000  3930000  4990000  4870000\n",
            "  3620000  7210000  3710000  2560000  6330000  6830000  3840000  4220000\n",
            "  8770000  8550000  2310000  7860000  7980000  3250000  6430000  4430000\n",
            "  3530000  3330000  3060000  2650000  3420000  2000000  2460000  8260000\n",
            "  1000000  4690000  7470000  6000000  3270000]\n",
            "[ 83.   76.8  80.6  78.2  75.1  65.3  85.5  83.3  80.3  68.   67.1  60.7\n",
            "  65.4  88.5  50.1  63.5  75.9  68.3  54.5  64.5  77.5  57.9  58.1  83.8\n",
            "  71.5  94.6  78.5  90.   78.4  74.6  40.7  79.6  76.1 102.8  79.7  62.4\n",
            "  54.6  80.2  69.9  65.6  82.9  89.2  75.8  64.6  57.2  97.1  77.1  89.7\n",
            "  61.6  79.8  87.1  88.2  75.   70.3  59.8  84.   82.3  66.2  82.4  68.6\n",
            "  77.8  50.9  84.1  81.2  93.5  78.9  60.6  74.8  51.2  50.7  94.1  81.4\n",
            "  79.4  88.4  86.8  76.   61.   56.   75.3  57.6  83.4  76.4  65.   96.7\n",
            "  58.   79.2  65.2  84.3  87.2 104.2  69.2  82.5  96.9  74.7  81.5  82.8\n",
            "  97.9  86.7  73.4  34.   45.9  60.5  76.2  77.6  46.1  67.   77.7  67.5\n",
            "  49.8  59.1  71.6  70.5  73.   62.   89.6  49.3  90.6  89.1  58.4  52.6\n",
            "  63.4  85.6  50.4  68.8  84.5  80.5  79.3  74.3  54.9  88.   46.3  74.9\n",
            " 109.1  79.   77.4  84.7  78.3  51.7  90.1  72.7  62.3  80.8  84.6 100.2\n",
            "  67.4  87.9  69.3  66.7  86.3  85.2 104.5  55.   72.3  75.2  36.6  81.3\n",
            "  68.2  66.4 120.   65.8  80.7  99.6  49.7  87.5 112.5  54.   94.9  59.3\n",
            " 100.1  90.3  87.7  67.2  64.2  89.5  72.4  80.1  65.7  92.8  87.8  76.7\n",
            "  68.5  86.1  72.   60.1  75.6  63.3  86.5  68.7  71.9  59.9  83.9  67.8\n",
            "  63.6  64.1  89.3  99.3  33.4  91.3  47.4  91.   47.5  93.   71.3 100.8\n",
            "  41.8 103.5  59.5  78.8  20.4  77.3  58.2  85.3  65.5  90.7  38.   87.3\n",
            "  93.8  68.9  64.8  71.2  92.1 106.9  81.7  89.8  62.1  64.7  41.7  92.3\n",
            "  69.5  98.5  62.8  76.9  47.8 105.5  47.1  90.2  58.3  66.6  73.2  69.1\n",
            "  70.9  95.1  85.1  20.   40.6  91.5  58.5  66.9  69.6  59.4  48.4  79.9\n",
            "  44.7  65.1 107.1  57.1  51.1  67.6  84.4  57.4  91.6  54.3  86.2  60.2\n",
            "  56.1  72.5  52.7  97.7  96.2  61.2  53.5  48.5  50.8  35.2  86.4  38.1\n",
            "  79.5  90.8  56.7  71.8  89.4 115.7  68.4 103.4 105.9  78.   56.5  58.8\n",
            "  64.3  64.   78.7  80.4  52.5  69.4  55.2  35.7  58.6  91.1  85.9 114.8\n",
            "  73.1  63.   62.2  52.2  99.7  64.4  96.   84.9  90.5  94.4  63.1  95.9\n",
            "  81.   46.9  87.6  57.  101.1  52.8  78.1  67.7  22.9  40.8  77.   70.7\n",
            "  73.5  67.3  63.7  77.2  74.4  91.7  96.5  60.3  93.1 116.3  76.5  62.5\n",
            "  85.4  40.9  59.6  71.   94.3  75.5  57.7  60.4  40.5  90.4  70.6  84.8\n",
            "  48.7  97.3  52.4  97.   87.   63.8  50.6  60.   80.   82.6 106.1  98.2\n",
            "  43.5 101.9 100.   99.4 110.3  95.4  83.7  89.9  93.2  70.4  61.1  71.4\n",
            "  45.   51.9  92.5  72.1  95.6  53.9  91.9  85.7  74.2  71.7  83.5  55.8\n",
            "  37.9  56.2  74.   85.   24.7  92.6 102.9 107.5  86.6  94.2  61.8  81.1\n",
            " 113.2  64.9  70.   54.8  51.6  66.8  60.8  71.1  53.7  88.1 105.7 105.1\n",
            "  56.3  53.4  74.5  41.1 100.5  88.3  54.4  77.9  72.8 103.7  69.7 101.7\n",
            "  73.3  73.8  82.7  89.   42.2  58.7  87.4  95.7  57.3  55.1  59.2  37.1\n",
            "  42.9 113.1  55.4  41.4  76.3  98.3  93.3  81.8  36.   61.3  82.2 101.6\n",
            "  99.9  99.   60.9  48.8  53.   96.4  92.2  27.8  82.   96.3  88.8  53.1\n",
            "  61.9  69.   43.8  62.7  72.9  88.6  36.5  44.   93.4  29.2  46.7  98.\n",
            "  98.1  93.6  78.6 105.8]\n",
            "[84.09 86.91 87.43 82.12 86.79 90.39 84.65 88.5  85.43 89.45 84.96 86.23\n",
            " 91.92 89.71 86.38 85.68 84.9  85.94 87.64 86.5  83.18 83.99 88.3  83.42\n",
            " 85.39 82.26 87.36 85.86 86.32 82.39 85.96 82.7  85.31 88.96 89.83 83.67\n",
            " 83.57 86.73 80.5  88.49 83.74 89.35 83.55 79.92 84.81 90.49 89.02 88.42\n",
            " 90.78 87.56 92.53 84.37 88.19 93.05 94.03 84.25 83.17 91.15 82.48 83.72\n",
            " 79.17 85.51 82.49 86.   84.78 86.89 89.19 88.92 87.54 83.24 84.93 93.57\n",
            " 84.02 80.55 88.87 89.21 91.17 82.52 85.88 86.2  84.48 88.38 89.31 87.37\n",
            " 83.14 83.7  81.7  92.76 85.08 91.7  87.4  83.28 87.17 84.75 83.73 82.44\n",
            " 84.05 85.81 84.28 90.54 85.77 85.37 88.18 84.01 83.5  86.62 86.99 93.55\n",
            " 84.98 87.53 84.64 86.34 89.55 83.62 81.91 88.34 88.17 89.74 82.32 92.99\n",
            " 84.1  93.53 85.29 79.02 85.72 96.56 83.54 92.08 83.16 81.87 88.55 83.52\n",
            " 82.45 82.23 84.13 86.48 82.02 83.71 89.39 92.47 84.33 86.92 80.65 83.12\n",
            " 86.49 84.49 83.84 85.09 92.8  87.09 85.14 89.95 91.16 86.15 85.24 83.94\n",
            " 88.23 89.16 81.19 86.56 80.96 85.93 87.28 95.1  87.24 81.04 88.84 87.3\n",
            " 91.47 83.48 91.27 78.59 82.67 86.53 88.98 84.97 84.88 85.15 83.89 85.73\n",
            " 82.35 85.56 88.51 86.6  88.94 84.45 84.44 81.98 89.03 80.9  86.93 87.68\n",
            " 87.39 84.35 89.07 89.41 82.93 83.64 85.28 87.66 85.58 91.09 90.96 90.83\n",
            " 88.74 88.54 92.69 91.02 83.9  84.63 87.81 91.53 93.35 84.92 86.1  81.13\n",
            " 87.52 82.61 89.42 85.65 85.01 88.72 85.62 86.02 84.39 81.8  96.1  86.86\n",
            " 88.86 83.08 81.64 88.91 84.19 86.55 85.44 90.01 82.24 80.57 84.79 92.68\n",
            " 84.89 87.67 88.37 85.78 93.89 89.13 89.53 90.67 89.04 82.36 82.57 88.26\n",
            " 92.85 83.88 88.78 88.85 82.33 83.03 90.4  89.28 88.1  89.97 85.23 81.76\n",
            " 84.72 91.38 87.61 87.58 81.   86.36 84.07 85.7  84.06 89.2  92.07 90.47\n",
            " 85.9  81.46 82.98 84.83 84.04 90.79 84.11 87.71 82.11 83.29 84.59 86.75\n",
            " 83.41 90.03 86.14 79.11 80.26 85.87 83.26 86.39 84.84 85.19 90.95 88.33\n",
            " 88.76 91.2  90.51 82.62 84.22 83.92 85.13 89.87 82.28 81.78 89.9  88.27\n",
            " 79.1  85.36 82.31 85.02 84.67 87.65 83.23 86.81 85.12 85.18 82.5  89.54\n",
            " 91.89 83.25 88.65 82.13 85.48 84.29 87.16 89.26 85.84 82.63 83.59 80.75\n",
            " 84.74 84.66 87.42 93.07 94.06 83.21 81.94 87.46 91.63 78.92 84.91 85.63\n",
            " 86.66 87.01 84.57 84.42 84.77 86.11 86.68 84.   90.31 82.58 85.61 85.33\n",
            " 86.18 80.73 91.82 81.65 83.56 85.79 93.01 89.52 85.45 88.35 96.72 80.05\n",
            " 84.3  86.72 85.34 89.63 84.08 86.71 86.47 86.59 87.2  83.79 87.5  87.27\n",
            " 81.12 82.88 84.56 85.5  80.69 84.12 81.86 89.14 85.2  84.51 85.91 83.3\n",
            " 95.81 84.85 91.84 85.89 90.92 94.28 83.87 88.59 86.31 94.24 85.83 86.09\n",
            " 88.46 90.33 92.39 81.16 87.97 93.7  84.15 83.78 83.22 84.21 83.1  86.83\n",
            " 91.77 85.3  84.99 83.43 80.8  84.61 85.1  90.32 83.53 85.41 86.88 81.06\n",
            " 92.43 86.52 93.04 86.35 82.46 85.11 83.45 88.73 83.34 81.24 84.31 89.25\n",
            " 86.98 77.18 87.25 84.53 86.97 91.5  90.82 86.82 78.67 90.18 89.22 89.96\n",
            " 84.87 89.24 96.23 91.43 88.4  94.34 86.94 88.09 92.   91.6  98.   91.9\n",
            " 87.55 83.15 89.44 81.74 91.51 80.4  83.69 85.66 87.63 83.06 84.68 94.93\n",
            " 83.82 82.96 83.47 81.33 79.83 89.06 90.29 85.22 94.04 80.79 88.39 91.3\n",
            " 83.35 87.78 85.54 82.75 88.52 89.05 83.86 87.15 84.94 91.29 86.05 87.62\n",
            " 81.34 81.35 88.43 83.96 88.79 81.71 83.68 86.17 85.46 89.5  82.95 85.07\n",
            " 86.85 93.78 80.34 83.02 87.23 85.57 91.65 88.07 86.33 90.52 86.44 92.66\n",
            " 81.59 84.34 88.44 83.05 87.21 85.97 92.31 93.72 86.28 86.43 86.74 81.99\n",
            " 83.04 85.47 89.82 78.94 92.25 90.21 95.94 86.64 89.67 83.63 87.   92.05\n",
            " 90.28 85.82 82.29 89.66 85.42 91.4  91.88 82.47 81.83 90.43 88.31 87.19\n",
            " 88.57 75.   81.2  85.99 86.19 83.01 87.47 84.86 86.01 95.23 86.03 90.97\n",
            " 87.02 86.57 84.71 78.83 83.36 86.54 80.56 83.07 81.05 91.49 80.99 86.29\n",
            " 85.95 88.58 86.8  84.76 89.27 88.71 91.   84.6  87.7  92.03 81.77 92.45\n",
            " 88.02 93.45 89.08 87.03 84.55 89.86 90.19 88.16 81.93 87.08 83.2  82.55\n",
            " 82.37 88.13 86.77 81.6  84.32 83.8  92.89 91.98 82.69 89.11 81.69 84.14\n",
            " 91.73 82.51 87.48 89.36 92.24 85.76 89.49 87.04 88.36 84.69 80.29 92.55\n",
            " 75.62 84.5  82.74 81.97 84.54 87.6  81.07 94.05 81.45 88.61 81.41 90.41\n",
            " 90.77 82.06 82.41 84.26 81.18 97.   81.08 80.18 84.7  86.61 84.03 82.89\n",
            " 82.27 87.12 93.87 82.91 80.42 81.73 87.87 90.62 88.25 89.1  82.1  85.98\n",
            " 85.52 80.63 88.2  84.58 89.59 86.87 85.27 85.16 89.72 79.56 87.18 86.13]\n",
            "[False  True]\n",
            "[ True False]\n"
          ]
        }
      ]
    },
    {
      "cell_type": "code",
      "source": [
        "#creating the bar plot\n",
        "plt.bar(df['residence'],df['average_grades'], color ='maroon')\n",
        "plt.xlabel(\"Residence\")\n",
        "plt.ylabel(\"Average Grades\")\n",
        "plt.title(\"Students Data for College\")\n",
        "plt.show()"
      ],
      "metadata": {
        "colab": {
          "base_uri": "https://localhost:8080/",
          "height": 295
        },
        "id": "EFnxWZYUK7HE",
        "outputId": "b6adc685-4007-48b8-ee2b-a9a5b6ba014f"
      },
      "execution_count": null,
      "outputs": [
        {
          "output_type": "display_data",
          "data": {
            "text/plain": [
              "<Figure size 432x288 with 1 Axes>"
            ],
            "image/png": "[encoded data removed]"
          },
          "metadata": {
            "needs_background": "light"
          }
        }
      ]
    },
    {
      "cell_type": "code",
      "source": [
        "sns.barplot(data = df, x='type_school',y='in_college')"
      ],
      "metadata": {
        "colab": {
          "base_uri": "https://localhost:8080/",
          "height": 297
        },
        "id": "ZtXcB5liLIj6",
        "outputId": "920c882e-fe1d-437a-8ff6-6c6853709c2e"
      },
      "execution_count": null,
      "outputs": [
        {
          "output_type": "execute_result",
          "data": {
            "text/plain": [
              "<matplotlib.axes._subplots.AxesSubplot at 0x7f0f16306cd0>"
            ]
          },
          "metadata": {},
          "execution_count": 17
        },
        {
          "output_type": "display_data",
          "data": {
            "text/plain": [
              "<Figure size 432x288 with 1 Axes>"
            ],
            "image/png": "[encoded data removed]"
          },
          "metadata": {
            "needs_background": "light"
          }
        }
      ]
    },
    {
      "cell_type": "code",
      "source": [
        "#creating the horizontal bar plot\n",
        "plt.barh(df['residence'],df['average_grades'], color ='y')\n",
        "plt.xlabel(\"Residence\")\n",
        "plt.ylabel(\"Average Grades\")\n",
        "plt.title(\"Students Data for College\")\n",
        "plt.show()"
      ],
      "metadata": {
        "colab": {
          "base_uri": "https://localhost:8080/",
          "height": 295
        },
        "id": "nEO3udb5K-k1",
        "outputId": "991f54e2-cb2b-4114-ea39-28ca91b3f8e3"
      },
      "execution_count": null,
      "outputs": [
        {
          "output_type": "display_data",
          "data": {
            "text/plain": [
              "<Figure size 432x288 with 1 Axes>"
            ],
            "image/png": "[encoded data removed]"
          },
          "metadata": {
            "needs_background": "light"
          }
        }
      ]
    },
    {
      "cell_type": "code",
      "source": [
        "sns.barplot(data = df, x='interest',y='in_college')"
      ],
      "metadata": {
        "colab": {
          "base_uri": "https://localhost:8080/",
          "height": 300
        },
        "id": "P-3ccmezLibG",
        "outputId": "9d0fe36a-20ff-41b0-c5a9-df3e5410832c"
      },
      "execution_count": null,
      "outputs": [
        {
          "output_type": "execute_result",
          "data": {
            "text/plain": [
              "<matplotlib.axes._subplots.AxesSubplot at 0x7f0f15eb8710>"
            ]
          },
          "metadata": {},
          "execution_count": 19
        },
        {
          "output_type": "display_data",
          "data": {
            "text/plain": [
              "<Figure size 432x288 with 1 Axes>"
            ],
            "image/png": "[encoded data removed]"
          },
          "metadata": {
            "needs_background": "light"
          }
        }
      ]
    },
    {
      "cell_type": "code",
      "source": [
        "sns.barplot(data = df, x='gender',y='in_college')"
      ],
      "metadata": {
        "colab": {
          "base_uri": "https://localhost:8080/",
          "height": 296
        },
        "id": "0l-ZYi2GLnRL",
        "outputId": "ec8ac5b3-caa2-42bf-e3ed-91d8c46d8998"
      },
      "execution_count": null,
      "outputs": [
        {
          "output_type": "execute_result",
          "data": {
            "text/plain": [
              "<matplotlib.axes._subplots.AxesSubplot at 0x7f0f1591a9d0>"
            ]
          },
          "metadata": {},
          "execution_count": 20
        },
        {
          "output_type": "display_data",
          "data": {
            "text/plain": [
              "<Figure size 432x288 with 1 Axes>"
            ],
            "image/png": "[encoded data removed]"
          },
          "metadata": {
            "needs_background": "light"
          }
        }
      ]
    },
    {
      "cell_type": "code",
      "source": [
        "sns.violinplot(x='residence', y ='house_area', data=df,\n",
        " hue='in_college',split=True)"
      ],
      "metadata": {
        "colab": {
          "base_uri": "https://localhost:8080/",
          "height": 296
        },
        "id": "iy4hj2HhLrXL",
        "outputId": "d9b884af-fb56-40d9-bfc2-4ff36ae43ac5"
      },
      "execution_count": null,
      "outputs": [
        {
          "output_type": "execute_result",
          "data": {
            "text/plain": [
              "<matplotlib.axes._subplots.AxesSubplot at 0x7f0f15de9c10>"
            ]
          },
          "metadata": {},
          "execution_count": 21
        },
        {
          "output_type": "display_data",
          "data": {
            "text/plain": [
              "<Figure size 432x288 with 1 Axes>"
            ],
            "image/png": "[encoded data removed]"
          },
          "metadata": {
            "needs_background": "light"
          }
        }
      ]
    },
    {
      "cell_type": "code",
      "source": [
        "sns.distplot(df['average_grades'])\n",
        "plt.title('Average Grades of Students',fontsize=18)\n",
        "plt.xlabel('Grades',fontsize=16)\n",
        "plt.ylabel('Average',fontsize=16)\n"
      ],
      "metadata": {
        "colab": {
          "base_uri": "https://localhost:8080/",
          "height": 376
        },
        "id": "6F1apbN6LyhA",
        "outputId": "ce40a260-8f55-4acb-b419-0d409eb66a08"
      },
      "execution_count": null,
      "outputs": [
        {
          "output_type": "stream",
          "name": "stderr",
          "text": [
            "/usr/local/lib/python3.7/dist-packages/seaborn/distributions.py:2619: FutureWarning: `distplot` is a deprecated function and will be removed in a future version. Please adapt your code to use either `displot` (a figure-level function with similar flexibility) or `histplot` (an axes-level function for histograms).\n",
            "  warnings.warn(msg, FutureWarning)\n"
          ]
        },
        {
          "output_type": "execute_result",
          "data": {
            "text/plain": [
              "Text(0, 0.5, 'Average')"
            ]
          },
          "metadata": {},
          "execution_count": 22
        },
        {
          "output_type": "display_data",
          "data": {
            "text/plain": [
              "<Figure size 432x288 with 1 Axes>"
            ],
            "image/png": "[encoded data removed]"
          },
          "metadata": {
            "needs_background": "light"
          }
        }
      ]
    },
    {
      "cell_type": "code",
      "source": [
        "sns.swarmplot( x='interest',y='in_college',data=df)"
      ],
      "metadata": {
        "colab": {
          "base_uri": "https://localhost:8080/",
          "height": 490
        },
        "id": "QYfOSzb4MJrA",
        "outputId": "f851fd92-8f3f-4fe9-b681-8915953a0e96"
      },
      "execution_count": null,
      "outputs": [
        {
          "output_type": "stream",
          "name": "stderr",
          "text": [
            "/usr/local/lib/python3.7/dist-packages/seaborn/categorical.py:1296: UserWarning: 90.4% of the points cannot be placed; you may want to decrease the size of the markers or use stripplot.\n",
            "  warnings.warn(msg, UserWarning)\n",
            "/usr/local/lib/python3.7/dist-packages/seaborn/categorical.py:1296: UserWarning: 93.2% of the points cannot be placed; you may want to decrease the size of the markers or use stripplot.\n",
            "  warnings.warn(msg, UserWarning)\n",
            "/usr/local/lib/python3.7/dist-packages/seaborn/categorical.py:1296: UserWarning: 91.6% of the points cannot be placed; you may want to decrease the size of the markers or use stripplot.\n",
            "  warnings.warn(msg, UserWarning)\n",
            "/usr/local/lib/python3.7/dist-packages/seaborn/categorical.py:1296: UserWarning: 74.4% of the points cannot be placed; you may want to decrease the size of the markers or use stripplot.\n",
            "  warnings.warn(msg, UserWarning)\n",
            "/usr/local/lib/python3.7/dist-packages/seaborn/categorical.py:1296: UserWarning: 78.0% of the points cannot be placed; you may want to decrease the size of the markers or use stripplot.\n",
            "  warnings.warn(msg, UserWarning)\n"
          ]
        },
        {
          "output_type": "execute_result",
          "data": {
            "text/plain": [
              "<matplotlib.axes._subplots.AxesSubplot at 0x7f0f15066a10>"
            ]
          },
          "metadata": {},
          "execution_count": 23
        },
        {
          "output_type": "display_data",
          "data": {
            "text/plain": [
              "<Figure size 432x288 with 1 Axes>"
            ],
            "image/png": "[encoded data removed]"
          },
          "metadata": {
            "needs_background": "light"
          }
        }
      ]
    },
    {
      "cell_type": "code",
      "source": [
        "#sns.pairplot(df)\n",
        "\n",
        "df['type_school'].replace({'Academic' :1, 'Vocational': 0}, inplace = True) \n",
        "df['school_accreditation'].replace({'A':1, 'B': 0}, inplace = True)\n",
        "df['gender'].replace({ 'Male':1, 'Female': 0}, inplace =True)\n",
        "df['school_accreditation'].replace({'A':1, 'B': 0}, inplace = True)\n",
        "df['residence'].replace({ 'Urban' :1, 'Rural': 0}, inplace =True)\n",
        "\n",
        "#df['parent_was_in_college'].replace({ 'True' :1, 'False': 0}, inplace = True) \n",
        "#df['in_college'].replace({'True' :1, 'False' :0}, inplace=True)\n",
        "df['parent_was_in_college']= df ['parent_was_in_college'].astype(int)\n",
        "df['in_college'] = df['in_college'].astype (int)\n",
        "\n",
        "df.head()\n",
        "\n",
        "df1=pd.get_dummies (data=df, columns=['interest']) \n",
        "df1.columns\n",
        "df1.info()"
      ],
      "metadata": {
        "colab": {
          "base_uri": "https://localhost:8080/"
        },
        "id": "ZS4TaPcjMQ89",
        "outputId": "42bd3174-4d07-4464-f743-eb07b27340fc"
      },
      "execution_count": null,
      "outputs": [
        {
          "output_type": "stream",
          "name": "stdout",
          "text": [
            "<class 'pandas.core.frame.DataFrame'>\n",
            "RangeIndex: 1000 entries, 0 to 999\n",
            "Data columns (total 15 columns):\n",
            " #   Column                     Non-Null Count  Dtype  \n",
            "---  ------                     --------------  -----  \n",
            " 0   type_school                1000 non-null   int64  \n",
            " 1   school_accreditation       1000 non-null   int64  \n",
            " 2   gender                     1000 non-null   int64  \n",
            " 3   residence                  1000 non-null   int64  \n",
            " 4   parent_age                 1000 non-null   int64  \n",
            " 5   parent_salary              1000 non-null   int64  \n",
            " 6   house_area                 1000 non-null   float64\n",
            " 7   average_grades             1000 non-null   float64\n",
            " 8   parent_was_in_college      1000 non-null   int64  \n",
            " 9   in_college                 1000 non-null   int64  \n",
            " 10  interest_Less Interested   1000 non-null   uint8  \n",
            " 11  interest_Not Interested    1000 non-null   uint8  \n",
            " 12  interest_Quiet Interested  1000 non-null   uint8  \n",
            " 13  interest_Uncertain         1000 non-null   uint8  \n",
            " 14  interest_Very Interested   1000 non-null   uint8  \n",
            "dtypes: float64(2), int64(8), uint8(5)\n",
            "memory usage: 83.1 KB\n"
          ]
        }
      ]
    },
    {
      "cell_type": "code",
      "source": [
        "df1.sample(3)"
      ],
      "metadata": {
        "colab": {
          "base_uri": "https://localhost:8080/",
          "height": 225
        },
        "id": "t-_pFRPWMm1y",
        "outputId": "0cb6ba75-225d-4564-abc2-b40961553de0"
      },
      "execution_count": null,
      "outputs": [
        {
          "output_type": "execute_result",
          "data": {
            "text/plain": [
              "     type_school  school_accreditation  gender  residence  parent_age  \\\n",
              "604            0                     0       0          0          54   \n",
              "173            0                     0       1          0          50   \n",
              "829            0                     1       1          1          59   \n",
              "\n",
              "     parent_salary  house_area  average_grades  parent_was_in_college  \\\n",
              "604        3650000        71.6           85.13                      1   \n",
              "173        6680000        87.9           86.56                      1   \n",
              "829        3630000        56.2           82.44                      0   \n",
              "\n",
              "     in_college  interest_Less Interested  interest_Not Interested  \\\n",
              "604           0                         0                        1   \n",
              "173           1                         1                        0   \n",
              "829           0                         0                        0   \n",
              "\n",
              "     interest_Quiet Interested  interest_Uncertain  interest_Very Interested  \n",
              "604                          0                   0                         0  \n",
              "173                          0                   0                         0  \n",
              "829                          1                   0                         0  "
            ],
            "text/html": [
              "\n",
              "  <div id=\"df-b6ffb10a-f09b-41ed-a5e1-5555b9b3af6c\">\n",
              "    <div class=\"colab-df-container\">\n",
              "      <div>\n",
              "<style scoped>\n",
              "    .dataframe tbody tr th:only-of-type {\n",
              "        vertical-align: middle;\n",
              "    }\n",
              "\n",
              "    .dataframe tbody tr th {\n",
              "        vertical-align: top;\n",
              "    }\n",
              "\n",
              "    .dataframe thead th {\n",
              "        text-align: right;\n",
              "    }\n",
              "</style>\n",
              "<table border=\"1\" class=\"dataframe\">\n",
              "  <thead>\n",
              "    <tr style=\"text-align: right;\">\n",
              "      <th></th>\n",
              "      <th>type_school</th>\n",
              "      <th>school_accreditation</th>\n",
              "      <th>gender</th>\n",
              "      <th>residence</th>\n",
              "      <th>parent_age</th>\n",
              "      <th>parent_salary</th>\n",
              "      <th>house_area</th>\n",
              "      <th>average_grades</th>\n",
              "      <th>parent_was_in_college</th>\n",
              "      <th>in_college</th>\n",
              "      <th>interest_Less Interested</th>\n",
              "      <th>interest_Not Interested</th>\n",
              "      <th>interest_Quiet Interested</th>\n",
              "      <th>interest_Uncertain</th>\n",
              "      <th>interest_Very Interested</th>\n",
              "    </tr>\n",
              "  </thead>\n",
              "  <tbody>\n",
              "    <tr>\n",
              "      <th>604</th>\n",
              "      <td>0</td>\n",
              "      <td>0</td>\n",
              "      <td>0</td>\n",
              "      <td>0</td>\n",
              "      <td>54</td>\n",
              "      <td>3650000</td>\n",
              "      <td>71.6</td>\n",
              "      <td>85.13</td>\n",
              "      <td>1</td>\n",
              "      <td>0</td>\n",
              "      <td>0</td>\n",
              "      <td>1</td>\n",
              "      <td>0</td>\n",
              "      <td>0</td>\n",
              "      <td>0</td>\n",
              "    </tr>\n",
              "    <tr>\n",
              "      <th>173</th>\n",
              "      <td>0</td>\n",
              "      <td>0</td>\n",
              "      <td>1</td>\n",
              "      <td>0</td>\n",
              "      <td>50</td>\n",
              "      <td>6680000</td>\n",
              "      <td>87.9</td>\n",
              "      <td>86.56</td>\n",
              "      <td>1</td>\n",
              "      <td>1</td>\n",
              "      <td>1</td>\n",
              "      <td>0</td>\n",
              "      <td>0</td>\n",
              "      <td>0</td>\n",
              "      <td>0</td>\n",
              "    </tr>\n",
              "    <tr>\n",
              "      <th>829</th>\n",
              "      <td>0</td>\n",
              "      <td>1</td>\n",
              "      <td>1</td>\n",
              "      <td>1</td>\n",
              "      <td>59</td>\n",
              "      <td>3630000</td>\n",
              "      <td>56.2</td>\n",
              "      <td>82.44</td>\n",
              "      <td>0</td>\n",
              "      <td>0</td>\n",
              "      <td>0</td>\n",
              "      <td>0</td>\n",
              "      <td>1</td>\n",
              "      <td>0</td>\n",
              "      <td>0</td>\n",
              "    </tr>\n",
              "  </tbody>\n",
              "</table>\n",
              "</div>\n",
              "      <button class=\"colab-df-convert\" onclick=\"convertToInteractive('df-b6ffb10a-f09b-41ed-a5e1-5555b9b3af6c')\"\n",
              "              title=\"Convert this dataframe to an interactive table.\"\n",
              "              style=\"display:none;\">\n",
              "        \n",
              "  <svg xmlns=\"http://www.w3.org/2000/svg\" height=\"24px\"viewBox=\"0 0 24 24\"\n",
              "       width=\"24px\">\n",
              "    <path d=\"M0 0h24v24H0V0z\" fill=\"none\"/>\n",
              "    <path d=\"M18.56 5.44l.94 2.06.94-2.06 2.06-.94-2.06-.94-.94-2.06-.94 2.06-2.06.94zm-11 1L8.5 8.5l.94-2.06 2.06-.94-2.06-.94L8.5 2.5l-.94 2.06-2.06.94zm10 10l.94 2.06.94-2.06 2.06-.94-2.06-.94-.94-2.06-.94 2.06-2.06.94z\"/><path d=\"M17.41 7.96l-1.37-1.37c-.4-.4-.92-.59-1.43-.59-.52 0-1.04.2-1.43.59L10.3 9.45l-7.72 7.72c-.78.78-.78 2.05 0 2.83L4 21.41c.39.39.9.59 1.41.59.51 0 1.02-.2 1.41-.59l7.78-7.78 2.81-2.81c.8-.78.8-2.07 0-2.86zM5.41 20L4 18.59l7.72-7.72 1.47 1.35L5.41 20z\"/>\n",
              "  </svg>\n",
              "      </button>\n",
              "      \n",
              "  <style>\n",
              "    .colab-df-container {\n",
              "      display:flex;\n",
              "      flex-wrap:wrap;\n",
              "      gap: 12px;\n",
              "    }\n",
              "\n",
              "    .colab-df-convert {\n",
              "      background-color: #E8F0FE;\n",
              "      border: none;\n",
              "      border-radius: 50%;\n",
              "      cursor: pointer;\n",
              "      display: none;\n",
              "      fill: #1967D2;\n",
              "      height: 32px;\n",
              "      padding: 0 0 0 0;\n",
              "      width: 32px;\n",
              "    }\n",
              "\n",
              "    .colab-df-convert:hover {\n",
              "      background-color: #E2EBFA;\n",
              "      box-shadow: 0px 1px 2px rgba(60, 64, 67, 0.3), 0px 1px 3px 1px rgba(60, 64, 67, 0.15);\n",
              "      fill: #174EA6;\n",
              "    }\n",
              "\n",
              "    [theme=dark] .colab-df-convert {\n",
              "      background-color: #3B4455;\n",
              "      fill: #D2E3FC;\n",
              "    }\n",
              "\n",
              "    [theme=dark] .colab-df-convert:hover {\n",
              "      background-color: #434B5C;\n",
              "      box-shadow: 0px 1px 3px 1px rgba(0, 0, 0, 0.15);\n",
              "      filter: drop-shadow(0px 1px 2px rgba(0, 0, 0, 0.3));\n",
              "      fill: #FFFFFF;\n",
              "    }\n",
              "  </style>\n",
              "\n",
              "      <script>\n",
              "        const buttonEl =\n",
              "          document.querySelector('#df-b6ffb10a-f09b-41ed-a5e1-5555b9b3af6c button.colab-df-convert');\n",
              "        buttonEl.style.display =\n",
              "          google.colab.kernel.accessAllowed ? 'block' : 'none';\n",
              "\n",
              "        async function convertToInteractive(key) {\n",
              "          const element = document.querySelector('#df-b6ffb10a-f09b-41ed-a5e1-5555b9b3af6c');\n",
              "          const dataTable =\n",
              "            await google.colab.kernel.invokeFunction('convertToInteractive',\n",
              "                                                     [key], {});\n",
              "          if (!dataTable) return;\n",
              "\n",
              "          const docLinkHtml = 'Like what you see? Visit the ' +\n",
              "            '<a target=\"_blank\" href=https://colab.research.google.com/notebooks/data_table.ipynb>data table notebook</a>'\n",
              "            + ' to learn more about interactive tables.';\n",
              "          element.innerHTML = '';\n",
              "          dataTable['output_type'] = 'display_data';\n",
              "          await google.colab.output.renderOutput(dataTable, element);\n",
              "          const docLink = document.createElement('div');\n",
              "          docLink.innerHTML = docLinkHtml;\n",
              "          element.appendChild(docLink);\n",
              "        }\n",
              "      </script>\n",
              "    </div>\n",
              "  </div>\n",
              "  "
            ]
          },
          "metadata": {},
          "execution_count": 25
        }
      ]
    },
    {
      "cell_type": "code",
      "source": [
        "from sklearn. preprocessing import MinMaxScaler\n",
        "\n",
        "cols_to_scale =['parent_age', 'parent_salary', 'house_area', 'average_grades']\n",
        "scale= MinMaxScaler() \n",
        "df1[cols_to_scale] =scale.fit_transform (df1 [cols_to_scale])\n",
        "\n",
        "df1.head(5)"
      ],
      "metadata": {
        "colab": {
          "base_uri": "https://localhost:8080/",
          "height": 288
        },
        "id": "h8yubuR3Mtri",
        "outputId": "bf7c1a08-30a4-4449-9af7-72d36124f500"
      },
      "execution_count": null,
      "outputs": [
        {
          "output_type": "execute_result",
          "data": {
            "text/plain": [
              "   type_school  school_accreditation  gender  residence  parent_age  \\\n",
              "0            1                     1       1          1        0.64   \n",
              "1            1                     1       1          1        0.68   \n",
              "2            1                     0       0          1        0.40   \n",
              "3            0                     0       1          0        0.36   \n",
              "4            1                     1       0          1        0.68   \n",
              "\n",
              "   parent_salary  house_area  average_grades  parent_was_in_college  \\\n",
              "0       0.661111       0.630        0.395217                      0   \n",
              "1       0.378889       0.568        0.517826                      0   \n",
              "2       0.611111       0.606        0.540435                      0   \n",
              "3       0.622222       0.582        0.309565                      1   \n",
              "4       0.472222       0.551        0.512609                      0   \n",
              "\n",
              "   in_college  interest_Less Interested  interest_Not Interested  \\\n",
              "0           1                         1                        0   \n",
              "1           1                         1                        0   \n",
              "2           1                         0                        0   \n",
              "3           1                         0                        0   \n",
              "4           0                         0                        0   \n",
              "\n",
              "   interest_Quiet Interested  interest_Uncertain  interest_Very Interested  \n",
              "0                          0                   0                         0  \n",
              "1                          0                   0                         0  \n",
              "2                          0                   0                         1  \n",
              "3                          0                   0                         1  \n",
              "4                          0                   0                         1  "
            ],
            "text/html": [
              "\n",
              "  <div id=\"df-044c914a-6c69-437e-b1b2-6ac6d88ad731\">\n",
              "    <div class=\"colab-df-container\">\n",
              "      <div>\n",
              "<style scoped>\n",
              "    .dataframe tbody tr th:only-of-type {\n",
              "        vertical-align: middle;\n",
              "    }\n",
              "\n",
              "    .dataframe tbody tr th {\n",
              "        vertical-align: top;\n",
              "    }\n",
              "\n",
              "    .dataframe thead th {\n",
              "        text-align: right;\n",
              "    }\n",
              "</style>\n",
              "<table border=\"1\" class=\"dataframe\">\n",
              "  <thead>\n",
              "    <tr style=\"text-align: right;\">\n",
              "      <th></th>\n",
              "      <th>type_school</th>\n",
              "      <th>school_accreditation</th>\n",
              "      <th>gender</th>\n",
              "      <th>residence</th>\n",
              "      <th>parent_age</th>\n",
              "      <th>parent_salary</th>\n",
              "      <th>house_area</th>\n",
              "      <th>average_grades</th>\n",
              "      <th>parent_was_in_college</th>\n",
              "      <th>in_college</th>\n",
              "      <th>interest_Less Interested</th>\n",
              "      <th>interest_Not Interested</th>\n",
              "      <th>interest_Quiet Interested</th>\n",
              "      <th>interest_Uncertain</th>\n",
              "      <th>interest_Very Interested</th>\n",
              "    </tr>\n",
              "  </thead>\n",
              "  <tbody>\n",
              "    <tr>\n",
              "      <th>0</th>\n",
              "      <td>1</td>\n",
              "      <td>1</td>\n",
              "      <td>1</td>\n",
              "      <td>1</td>\n",
              "      <td>0.64</td>\n",
              "      <td>0.661111</td>\n",
              "      <td>0.630</td>\n",
              "      <td>0.395217</td>\n",
              "      <td>0</td>\n",
              "      <td>1</td>\n",
              "      <td>1</td>\n",
              "      <td>0</td>\n",
              "      <td>0</td>\n",
              "      <td>0</td>\n",
              "      <td>0</td>\n",
              "    </tr>\n",
              "    <tr>\n",
              "      <th>1</th>\n",
              "      <td>1</td>\n",
              "      <td>1</td>\n",
              "      <td>1</td>\n",
              "      <td>1</td>\n",
              "      <td>0.68</td>\n",
              "      <td>0.378889</td>\n",
              "      <td>0.568</td>\n",
              "      <td>0.517826</td>\n",
              "      <td>0</td>\n",
              "      <td>1</td>\n",
              "      <td>1</td>\n",
              "      <td>0</td>\n",
              "      <td>0</td>\n",
              "      <td>0</td>\n",
              "      <td>0</td>\n",
              "    </tr>\n",
              "    <tr>\n",
              "      <th>2</th>\n",
              "      <td>1</td>\n",
              "      <td>0</td>\n",
              "      <td>0</td>\n",
              "      <td>1</td>\n",
              "      <td>0.40</td>\n",
              "      <td>0.611111</td>\n",
              "      <td>0.606</td>\n",
              "      <td>0.540435</td>\n",
              "      <td>0</td>\n",
              "      <td>1</td>\n",
              "      <td>0</td>\n",
              "      <td>0</td>\n",
              "      <td>0</td>\n",
              "      <td>0</td>\n",
              "      <td>1</td>\n",
              "    </tr>\n",
              "    <tr>\n",
              "      <th>3</th>\n",
              "      <td>0</td>\n",
              "      <td>0</td>\n",
              "      <td>1</td>\n",
              "      <td>0</td>\n",
              "      <td>0.36</td>\n",
              "      <td>0.622222</td>\n",
              "      <td>0.582</td>\n",
              "      <td>0.309565</td>\n",
              "      <td>1</td>\n",
              "      <td>1</td>\n",
              "      <td>0</td>\n",
              "      <td>0</td>\n",
              "      <td>0</td>\n",
              "      <td>0</td>\n",
              "      <td>1</td>\n",
              "    </tr>\n",
              "    <tr>\n",
              "      <th>4</th>\n",
              "      <td>1</td>\n",
              "      <td>1</td>\n",
              "      <td>0</td>\n",
              "      <td>1</td>\n",
              "      <td>0.68</td>\n",
              "      <td>0.472222</td>\n",
              "      <td>0.551</td>\n",
              "      <td>0.512609</td>\n",
              "      <td>0</td>\n",
              "      <td>0</td>\n",
              "      <td>0</td>\n",
              "      <td>0</td>\n",
              "      <td>0</td>\n",
              "      <td>0</td>\n",
              "      <td>1</td>\n",
              "    </tr>\n",
              "  </tbody>\n",
              "</table>\n",
              "</div>\n",
              "      <button class=\"colab-df-convert\" onclick=\"convertToInteractive('df-044c914a-6c69-437e-b1b2-6ac6d88ad731')\"\n",
              "              title=\"Convert this dataframe to an interactive table.\"\n",
              "              style=\"display:none;\">\n",
              "        \n",
              "  <svg xmlns=\"http://www.w3.org/2000/svg\" height=\"24px\"viewBox=\"0 0 24 24\"\n",
              "       width=\"24px\">\n",
              "    <path d=\"M0 0h24v24H0V0z\" fill=\"none\"/>\n",
              "    <path d=\"M18.56 5.44l.94 2.06.94-2.06 2.06-.94-2.06-.94-.94-2.06-.94 2.06-2.06.94zm-11 1L8.5 8.5l.94-2.06 2.06-.94-2.06-.94L8.5 2.5l-.94 2.06-2.06.94zm10 10l.94 2.06.94-2.06 2.06-.94-2.06-.94-.94-2.06-.94 2.06-2.06.94z\"/><path d=\"M17.41 7.96l-1.37-1.37c-.4-.4-.92-.59-1.43-.59-.52 0-1.04.2-1.43.59L10.3 9.45l-7.72 7.72c-.78.78-.78 2.05 0 2.83L4 21.41c.39.39.9.59 1.41.59.51 0 1.02-.2 1.41-.59l7.78-7.78 2.81-2.81c.8-.78.8-2.07 0-2.86zM5.41 20L4 18.59l7.72-7.72 1.47 1.35L5.41 20z\"/>\n",
              "  </svg>\n",
              "      </button>\n",
              "      \n",
              "  <style>\n",
              "    .colab-df-container {\n",
              "      display:flex;\n",
              "      flex-wrap:wrap;\n",
              "      gap: 12px;\n",
              "    }\n",
              "\n",
              "    .colab-df-convert {\n",
              "      background-color: #E8F0FE;\n",
              "      border: none;\n",
              "      border-radius: 50%;\n",
              "      cursor: pointer;\n",
              "      display: none;\n",
              "      fill: #1967D2;\n",
              "      height: 32px;\n",
              "      padding: 0 0 0 0;\n",
              "      width: 32px;\n",
              "    }\n",
              "\n",
              "    .colab-df-convert:hover {\n",
              "      background-color: #E2EBFA;\n",
              "      box-shadow: 0px 1px 2px rgba(60, 64, 67, 0.3), 0px 1px 3px 1px rgba(60, 64, 67, 0.15);\n",
              "      fill: #174EA6;\n",
              "    }\n",
              "\n",
              "    [theme=dark] .colab-df-convert {\n",
              "      background-color: #3B4455;\n",
              "      fill: #D2E3FC;\n",
              "    }\n",
              "\n",
              "    [theme=dark] .colab-df-convert:hover {\n",
              "      background-color: #434B5C;\n",
              "      box-shadow: 0px 1px 3px 1px rgba(0, 0, 0, 0.15);\n",
              "      filter: drop-shadow(0px 1px 2px rgba(0, 0, 0, 0.3));\n",
              "      fill: #FFFFFF;\n",
              "    }\n",
              "  </style>\n",
              "\n",
              "      <script>\n",
              "        const buttonEl =\n",
              "          document.querySelector('#df-044c914a-6c69-437e-b1b2-6ac6d88ad731 button.colab-df-convert');\n",
              "        buttonEl.style.display =\n",
              "          google.colab.kernel.accessAllowed ? 'block' : 'none';\n",
              "\n",
              "        async function convertToInteractive(key) {\n",
              "          const element = document.querySelector('#df-044c914a-6c69-437e-b1b2-6ac6d88ad731');\n",
              "          const dataTable =\n",
              "            await google.colab.kernel.invokeFunction('convertToInteractive',\n",
              "                                                     [key], {});\n",
              "          if (!dataTable) return;\n",
              "\n",
              "          const docLinkHtml = 'Like what you see? Visit the ' +\n",
              "            '<a target=\"_blank\" href=https://colab.research.google.com/notebooks/data_table.ipynb>data table notebook</a>'\n",
              "            + ' to learn more about interactive tables.';\n",
              "          element.innerHTML = '';\n",
              "          dataTable['output_type'] = 'display_data';\n",
              "          await google.colab.output.renderOutput(dataTable, element);\n",
              "          const docLink = document.createElement('div');\n",
              "          docLink.innerHTML = docLinkHtml;\n",
              "          element.appendChild(docLink);\n",
              "        }\n",
              "      </script>\n",
              "    </div>\n",
              "  </div>\n",
              "  "
            ]
          },
          "metadata": {},
          "execution_count": 26
        }
      ]
    },
    {
      "cell_type": "code",
      "source": [
        "X = df1.drop('in_college', axis='columns') \n",
        "y=df1['in_college']\n",
        "\n",
        "from sklearn.model_selection import train_test_split\n",
        "X_train,X_test, y_train, y_test = train_test_split(X, y, test_size= 0.2, random_state = 3)\n",
        "X_train.shape\n"
      ],
      "metadata": {
        "colab": {
          "base_uri": "https://localhost:8080/"
        },
        "id": "6nDp1k-5M3Fv",
        "outputId": "91f69731-622a-4fd3-e721-24edb09a650d"
      },
      "execution_count": null,
      "outputs": [
        {
          "output_type": "execute_result",
          "data": {
            "text/plain": [
              "(800, 14)"
            ]
          },
          "metadata": {},
          "execution_count": 27
        }
      ]
    },
    {
      "cell_type": "code",
      "source": [
        "X_test.shape\n"
      ],
      "metadata": {
        "colab": {
          "base_uri": "https://localhost:8080/"
        },
        "id": "X3u8c7ZTNEdk",
        "outputId": "5cc52532-ffb0-406e-dd95-0b2c3c2b4795"
      },
      "execution_count": null,
      "outputs": [
        {
          "output_type": "execute_result",
          "data": {
            "text/plain": [
              "(200, 14)"
            ]
          },
          "metadata": {},
          "execution_count": 28
        }
      ]
    },
    {
      "cell_type": "code",
      "source": [
        "y_train.shape"
      ],
      "metadata": {
        "colab": {
          "base_uri": "https://localhost:8080/"
        },
        "id": "UJe09ch2NI4o",
        "outputId": "012fb28c-81af-422b-bf6a-e0695bf70bfe"
      },
      "execution_count": null,
      "outputs": [
        {
          "output_type": "execute_result",
          "data": {
            "text/plain": [
              "(800,)"
            ]
          },
          "metadata": {},
          "execution_count": 29
        }
      ]
    },
    {
      "cell_type": "code",
      "source": [
        "y_test.shape"
      ],
      "metadata": {
        "colab": {
          "base_uri": "https://localhost:8080/"
        },
        "id": "RcrJKIeJNPPo",
        "outputId": "03c8f960-3434-4c67-9e38-f2bf61cd6be3"
      },
      "execution_count": null,
      "outputs": [
        {
          "output_type": "execute_result",
          "data": {
            "text/plain": [
              "(200,)"
            ]
          },
          "metadata": {},
          "execution_count": 30
        }
      ]
    },
    {
      "cell_type": "code",
      "source": [
        "df = pd.read_csv(\"/content/Customer-Churn.csv\")"
      ],
      "metadata": {
        "id": "hDEIT5lCN-UC"
      },
      "execution_count": null,
      "outputs": []
    },
    {
      "cell_type": "code",
      "source": [
        "df.head(5)\n"
      ],
      "metadata": {
        "colab": {
          "base_uri": "https://localhost:8080/",
          "height": 386
        },
        "id": "X1hLr82ZOVFf",
        "outputId": "f008e77a-970f-44ee-d569-63cccb6754b6"
      },
      "execution_count": null,
      "outputs": [
        {
          "output_type": "execute_result",
          "data": {
            "text/plain": [
              "   customerID  gender  SeniorCitizen Partner Dependents  tenure PhoneService  \\\n",
              "0  7590-VHVEG  Female              0     Yes         No       1           No   \n",
              "1  5575-GNVDE    Male              0      No         No      34          Yes   \n",
              "2  3668-QPYBK    Male              0      No         No       2          Yes   \n",
              "3  7795-CFOCW    Male              0      No         No      45           No   \n",
              "4  9237-HQITU  Female              0      No         No       2          Yes   \n",
              "\n",
              "      MultipleLines InternetService OnlineSecurity  ... DeviceProtection  \\\n",
              "0  No phone service             DSL             No  ...               No   \n",
              "1                No             DSL            Yes  ...              Yes   \n",
              "2                No             DSL            Yes  ...               No   \n",
              "3  No phone service             DSL            Yes  ...              Yes   \n",
              "4                No     Fiber optic             No  ...               No   \n",
              "\n",
              "  TechSupport StreamingTV StreamingMovies        Contract PaperlessBilling  \\\n",
              "0          No          No              No  Month-to-month              Yes   \n",
              "1          No          No              No        One year               No   \n",
              "2          No          No              No  Month-to-month              Yes   \n",
              "3         Yes          No              No        One year               No   \n",
              "4          No          No              No  Month-to-month              Yes   \n",
              "\n",
              "               PaymentMethod MonthlyCharges  TotalCharges Churn  \n",
              "0           Electronic check          29.85         29.85    No  \n",
              "1               Mailed check          56.95        1889.5    No  \n",
              "2               Mailed check          53.85        108.15   Yes  \n",
              "3  Bank transfer (automatic)          42.30       1840.75    No  \n",
              "4           Electronic check          70.70        151.65   Yes  \n",
              "\n",
              "[5 rows x 21 columns]"
            ],
            "text/html": [
              "\n",
              "  <div id=\"df-68ffbf31-01f2-4c03-bf27-9e1842cf8f0f\">\n",
              "    <div class=\"colab-df-container\">\n",
              "      <div>\n",
              "<style scoped>\n",
              "    .dataframe tbody tr th:only-of-type {\n",
              "        vertical-align: middle;\n",
              "    }\n",
              "\n",
              "    .dataframe tbody tr th {\n",
              "        vertical-align: top;\n",
              "    }\n",
              "\n",
              "    .dataframe thead th {\n",
              "        text-align: right;\n",
              "    }\n",
              "</style>\n",
              "<table border=\"1\" class=\"dataframe\">\n",
              "  <thead>\n",
              "    <tr style=\"text-align: right;\">\n",
              "      <th></th>\n",
              "      <th>customerID</th>\n",
              "      <th>gender</th>\n",
              "      <th>SeniorCitizen</th>\n",
              "      <th>Partner</th>\n",
              "      <th>Dependents</th>\n",
              "      <th>tenure</th>\n",
              "      <th>PhoneService</th>\n",
              "      <th>MultipleLines</th>\n",
              "      <th>InternetService</th>\n",
              "      <th>OnlineSecurity</th>\n",
              "      <th>...</th>\n",
              "      <th>DeviceProtection</th>\n",
              "      <th>TechSupport</th>\n",
              "      <th>StreamingTV</th>\n",
              "      <th>StreamingMovies</th>\n",
              "      <th>Contract</th>\n",
              "      <th>PaperlessBilling</th>\n",
              "      <th>PaymentMethod</th>\n",
              "      <th>MonthlyCharges</th>\n",
              "      <th>TotalCharges</th>\n",
              "      <th>Churn</th>\n",
              "    </tr>\n",
              "  </thead>\n",
              "  <tbody>\n",
              "    <tr>\n",
              "      <th>0</th>\n",
              "      <td>7590-VHVEG</td>\n",
              "      <td>Female</td>\n",
              "      <td>0</td>\n",
              "      <td>Yes</td>\n",
              "      <td>No</td>\n",
              "      <td>1</td>\n",
              "      <td>No</td>\n",
              "      <td>No phone service</td>\n",
              "      <td>DSL</td>\n",
              "      <td>No</td>\n",
              "      <td>...</td>\n",
              "      <td>No</td>\n",
              "      <td>No</td>\n",
              "      <td>No</td>\n",
              "      <td>No</td>\n",
              "      <td>Month-to-month</td>\n",
              "      <td>Yes</td>\n",
              "      <td>Electronic check</td>\n",
              "      <td>29.85</td>\n",
              "      <td>29.85</td>\n",
              "      <td>No</td>\n",
              "    </tr>\n",
              "    <tr>\n",
              "      <th>1</th>\n",
              "      <td>5575-GNVDE</td>\n",
              "      <td>Male</td>\n",
              "      <td>0</td>\n",
              "      <td>No</td>\n",
              "      <td>No</td>\n",
              "      <td>34</td>\n",
              "      <td>Yes</td>\n",
              "      <td>No</td>\n",
              "      <td>DSL</td>\n",
              "      <td>Yes</td>\n",
              "      <td>...</td>\n",
              "      <td>Yes</td>\n",
              "      <td>No</td>\n",
              "      <td>No</td>\n",
              "      <td>No</td>\n",
              "      <td>One year</td>\n",
              "      <td>No</td>\n",
              "      <td>Mailed check</td>\n",
              "      <td>56.95</td>\n",
              "      <td>1889.5</td>\n",
              "      <td>No</td>\n",
              "    </tr>\n",
              "    <tr>\n",
              "      <th>2</th>\n",
              "      <td>3668-QPYBK</td>\n",
              "      <td>Male</td>\n",
              "      <td>0</td>\n",
              "      <td>No</td>\n",
              "      <td>No</td>\n",
              "      <td>2</td>\n",
              "      <td>Yes</td>\n",
              "      <td>No</td>\n",
              "      <td>DSL</td>\n",
              "      <td>Yes</td>\n",
              "      <td>...</td>\n",
              "      <td>No</td>\n",
              "      <td>No</td>\n",
              "      <td>No</td>\n",
              "      <td>No</td>\n",
              "      <td>Month-to-month</td>\n",
              "      <td>Yes</td>\n",
              "      <td>Mailed check</td>\n",
              "      <td>53.85</td>\n",
              "      <td>108.15</td>\n",
              "      <td>Yes</td>\n",
              "    </tr>\n",
              "    <tr>\n",
              "      <th>3</th>\n",
              "      <td>7795-CFOCW</td>\n",
              "      <td>Male</td>\n",
              "      <td>0</td>\n",
              "      <td>No</td>\n",
              "      <td>No</td>\n",
              "      <td>45</td>\n",
              "      <td>No</td>\n",
              "      <td>No phone service</td>\n",
              "      <td>DSL</td>\n",
              "      <td>Yes</td>\n",
              "      <td>...</td>\n",
              "      <td>Yes</td>\n",
              "      <td>Yes</td>\n",
              "      <td>No</td>\n",
              "      <td>No</td>\n",
              "      <td>One year</td>\n",
              "      <td>No</td>\n",
              "      <td>Bank transfer (automatic)</td>\n",
              "      <td>42.30</td>\n",
              "      <td>1840.75</td>\n",
              "      <td>No</td>\n",
              "    </tr>\n",
              "    <tr>\n",
              "      <th>4</th>\n",
              "      <td>9237-HQITU</td>\n",
              "      <td>Female</td>\n",
              "      <td>0</td>\n",
              "      <td>No</td>\n",
              "      <td>No</td>\n",
              "      <td>2</td>\n",
              "      <td>Yes</td>\n",
              "      <td>No</td>\n",
              "      <td>Fiber optic</td>\n",
              "      <td>No</td>\n",
              "      <td>...</td>\n",
              "      <td>No</td>\n",
              "      <td>No</td>\n",
              "      <td>No</td>\n",
              "      <td>No</td>\n",
              "      <td>Month-to-month</td>\n",
              "      <td>Yes</td>\n",
              "      <td>Electronic check</td>\n",
              "      <td>70.70</td>\n",
              "      <td>151.65</td>\n",
              "      <td>Yes</td>\n",
              "    </tr>\n",
              "  </tbody>\n",
              "</table>\n",
              "<p>5 rows × 21 columns</p>\n",
              "</div>\n",
              "      <button class=\"colab-df-convert\" onclick=\"convertToInteractive('df-68ffbf31-01f2-4c03-bf27-9e1842cf8f0f')\"\n",
              "              title=\"Convert this dataframe to an interactive table.\"\n",
              "              style=\"display:none;\">\n",
              "        \n",
              "  <svg xmlns=\"http://www.w3.org/2000/svg\" height=\"24px\"viewBox=\"0 0 24 24\"\n",
              "       width=\"24px\">\n",
              "    <path d=\"M0 0h24v24H0V0z\" fill=\"none\"/>\n",
              "    <path d=\"M18.56 5.44l.94 2.06.94-2.06 2.06-.94-2.06-.94-.94-2.06-.94 2.06-2.06.94zm-11 1L8.5 8.5l.94-2.06 2.06-.94-2.06-.94L8.5 2.5l-.94 2.06-2.06.94zm10 10l.94 2.06.94-2.06 2.06-.94-2.06-.94-.94-2.06-.94 2.06-2.06.94z\"/><path d=\"M17.41 7.96l-1.37-1.37c-.4-.4-.92-.59-1.43-.59-.52 0-1.04.2-1.43.59L10.3 9.45l-7.72 7.72c-.78.78-.78 2.05 0 2.83L4 21.41c.39.39.9.59 1.41.59.51 0 1.02-.2 1.41-.59l7.78-7.78 2.81-2.81c.8-.78.8-2.07 0-2.86zM5.41 20L4 18.59l7.72-7.72 1.47 1.35L5.41 20z\"/>\n",
              "  </svg>\n",
              "      </button>\n",
              "      \n",
              "  <style>\n",
              "    .colab-df-container {\n",
              "      display:flex;\n",
              "      flex-wrap:wrap;\n",
              "      gap: 12px;\n",
              "    }\n",
              "\n",
              "    .colab-df-convert {\n",
              "      background-color: #E8F0FE;\n",
              "      border: none;\n",
              "      border-radius: 50%;\n",
              "      cursor: pointer;\n",
              "      display: none;\n",
              "      fill: #1967D2;\n",
              "      height: 32px;\n",
              "      padding: 0 0 0 0;\n",
              "      width: 32px;\n",
              "    }\n",
              "\n",
              "    .colab-df-convert:hover {\n",
              "      background-color: #E2EBFA;\n",
              "      box-shadow: 0px 1px 2px rgba(60, 64, 67, 0.3), 0px 1px 3px 1px rgba(60, 64, 67, 0.15);\n",
              "      fill: #174EA6;\n",
              "    }\n",
              "\n",
              "    [theme=dark] .colab-df-convert {\n",
              "      background-color: #3B4455;\n",
              "      fill: #D2E3FC;\n",
              "    }\n",
              "\n",
              "    [theme=dark] .colab-df-convert:hover {\n",
              "      background-color: #434B5C;\n",
              "      box-shadow: 0px 1px 3px 1px rgba(0, 0, 0, 0.15);\n",
              "      filter: drop-shadow(0px 1px 2px rgba(0, 0, 0, 0.3));\n",
              "      fill: #FFFFFF;\n",
              "    }\n",
              "  </style>\n",
              "\n",
              "      <script>\n",
              "        const buttonEl =\n",
              "          document.querySelector('#df-68ffbf31-01f2-4c03-bf27-9e1842cf8f0f button.colab-df-convert');\n",
              "        buttonEl.style.display =\n",
              "          google.colab.kernel.accessAllowed ? 'block' : 'none';\n",
              "\n",
              "        async function convertToInteractive(key) {\n",
              "          const element = document.querySelector('#df-68ffbf31-01f2-4c03-bf27-9e1842cf8f0f');\n",
              "          const dataTable =\n",
              "            await google.colab.kernel.invokeFunction('convertToInteractive',\n",
              "                                                     [key], {});\n",
              "          if (!dataTable) return;\n",
              "\n",
              "          const docLinkHtml = 'Like what you see? Visit the ' +\n",
              "            '<a target=\"_blank\" href=https://colab.research.google.com/notebooks/data_table.ipynb>data table notebook</a>'\n",
              "            + ' to learn more about interactive tables.';\n",
              "          element.innerHTML = '';\n",
              "          dataTable['output_type'] = 'display_data';\n",
              "          await google.colab.output.renderOutput(dataTable, element);\n",
              "          const docLink = document.createElement('div');\n",
              "          docLink.innerHTML = docLinkHtml;\n",
              "          element.appendChild(docLink);\n",
              "        }\n",
              "      </script>\n",
              "    </div>\n",
              "  </div>\n",
              "  "
            ]
          },
          "metadata": {},
          "execution_count": 32
        }
      ]
    },
    {
      "cell_type": "code",
      "source": [
        "df['Churn'].unique()"
      ],
      "metadata": {
        "colab": {
          "base_uri": "https://localhost:8080/"
        },
        "id": "-HybJ2SyOZ6u",
        "outputId": "fe4624b3-41cd-4855-9479-b61a30c6908d"
      },
      "execution_count": null,
      "outputs": [
        {
          "output_type": "execute_result",
          "data": {
            "text/plain": [
              "array(['No', 'Yes'], dtype=object)"
            ]
          },
          "metadata": {},
          "execution_count": 33
        }
      ]
    },
    {
      "cell_type": "code",
      "source": [
        "df['Contract'].unique()"
      ],
      "metadata": {
        "colab": {
          "base_uri": "https://localhost:8080/"
        },
        "id": "D6AmPwWQOl4P",
        "outputId": "393390a5-b9b1-4dd3-db61-5f96dd24e160"
      },
      "execution_count": null,
      "outputs": [
        {
          "output_type": "execute_result",
          "data": {
            "text/plain": [
              "array(['Month-to-month', 'One year', 'Two year'], dtype=object)"
            ]
          },
          "metadata": {},
          "execution_count": 35
        }
      ]
    },
    {
      "cell_type": "code",
      "source": [
        "df['InternetService'].unique()"
      ],
      "metadata": {
        "colab": {
          "base_uri": "https://localhost:8080/"
        },
        "id": "JiH3SZ-KPQP0",
        "outputId": "ea0219bc-0ce3-4f84-94e3-61e0201f2d96"
      },
      "execution_count": null,
      "outputs": [
        {
          "output_type": "execute_result",
          "data": {
            "text/plain": [
              "array(['DSL', 'Fiber optic', 'No'], dtype=object)"
            ]
          },
          "metadata": {},
          "execution_count": 40
        }
      ]
    },
    {
      "cell_type": "code",
      "source": [
        "df['TotalCharges'].unique()"
      ],
      "metadata": {
        "colab": {
          "base_uri": "https://localhost:8080/"
        },
        "id": "mJzWARtFPUUU",
        "outputId": "22954420-0c59-45b5-9fa1-c37c49cc8dde"
      },
      "execution_count": null,
      "outputs": [
        {
          "output_type": "execute_result",
          "data": {
            "text/plain": [
              "array(['29.85', '1889.5', '108.15', ..., '346.45', '306.6', '6844.5'],\n",
              "      dtype=object)"
            ]
          },
          "metadata": {},
          "execution_count": 41
        }
      ]
    },
    {
      "cell_type": "code",
      "source": [
        "df['PaymentMethod'].unique()"
      ],
      "metadata": {
        "colab": {
          "base_uri": "https://localhost:8080/"
        },
        "id": "aH8zu1T6PYZ0",
        "outputId": "6b3671d6-395a-45c6-ce64-971e39a29713"
      },
      "execution_count": null,
      "outputs": [
        {
          "output_type": "execute_result",
          "data": {
            "text/plain": [
              "array(['Electronic check', 'Mailed check', 'Bank transfer (automatic)',\n",
              "       'Credit card (automatic)'], dtype=object)"
            ]
          },
          "metadata": {},
          "execution_count": 42
        }
      ]
    },
    {
      "cell_type": "code",
      "source": [
        "df['tenure'].unique()"
      ],
      "metadata": {
        "colab": {
          "base_uri": "https://localhost:8080/"
        },
        "id": "8XmwXoawPr2k",
        "outputId": "f6d4fb47-82bb-4bcd-e7f6-2d75c2eb2b77"
      },
      "execution_count": null,
      "outputs": [
        {
          "output_type": "execute_result",
          "data": {
            "text/plain": [
              "array([ 1, 34,  2, 45,  8, 22, 10, 28, 62, 13, 16, 58, 49, 25, 69, 52, 71,\n",
              "       21, 12, 30, 47, 72, 17, 27,  5, 46, 11, 70, 63, 43, 15, 60, 18, 66,\n",
              "        9,  3, 31, 50, 64, 56,  7, 42, 35, 48, 29, 65, 38, 68, 32, 55, 37,\n",
              "       36, 41,  6,  4, 33, 67, 23, 57, 61, 14, 20, 53, 40, 59, 24, 44, 19,\n",
              "       54, 51, 26,  0, 39])"
            ]
          },
          "metadata": {},
          "execution_count": 43
        }
      ]
    },
    {
      "cell_type": "code",
      "source": [
        "df['Churn'].value_counts()"
      ],
      "metadata": {
        "colab": {
          "base_uri": "https://localhost:8080/"
        },
        "id": "QO_GxEzvPvj7",
        "outputId": "e7639d0f-ef36-45d7-c9bd-da81e612c261"
      },
      "execution_count": null,
      "outputs": [
        {
          "output_type": "execute_result",
          "data": {
            "text/plain": [
              "No     5174\n",
              "Yes    1869\n",
              "Name: Churn, dtype: int64"
            ]
          },
          "metadata": {},
          "execution_count": 44
        }
      ]
    },
    {
      "cell_type": "code",
      "source": [
        "df.groupby('Churn').mean()"
      ],
      "metadata": {
        "colab": {
          "base_uri": "https://localhost:8080/",
          "height": 143
        },
        "id": "VycRpdcFP5MG",
        "outputId": "b61052c2-9105-4367-d951-1d1bbb118eee"
      },
      "execution_count": null,
      "outputs": [
        {
          "output_type": "execute_result",
          "data": {
            "text/plain": [
              "       SeniorCitizen     tenure  MonthlyCharges\n",
              "Churn                                          \n",
              "No          0.128721  37.569965       61.265124\n",
              "Yes         0.254682  17.979133       74.441332"
            ],
            "text/html": [
              "\n",
              "  <div id=\"df-821b55e4-63e6-40ef-b110-0b0cf4544974\">\n",
              "    <div class=\"colab-df-container\">\n",
              "      <div>\n",
              "<style scoped>\n",
              "    .dataframe tbody tr th:only-of-type {\n",
              "        vertical-align: middle;\n",
              "    }\n",
              "\n",
              "    .dataframe tbody tr th {\n",
              "        vertical-align: top;\n",
              "    }\n",
              "\n",
              "    .dataframe thead th {\n",
              "        text-align: right;\n",
              "    }\n",
              "</style>\n",
              "<table border=\"1\" class=\"dataframe\">\n",
              "  <thead>\n",
              "    <tr style=\"text-align: right;\">\n",
              "      <th></th>\n",
              "      <th>SeniorCitizen</th>\n",
              "      <th>tenure</th>\n",
              "      <th>MonthlyCharges</th>\n",
              "    </tr>\n",
              "    <tr>\n",
              "      <th>Churn</th>\n",
              "      <th></th>\n",
              "      <th></th>\n",
              "      <th></th>\n",
              "    </tr>\n",
              "  </thead>\n",
              "  <tbody>\n",
              "    <tr>\n",
              "      <th>No</th>\n",
              "      <td>0.128721</td>\n",
              "      <td>37.569965</td>\n",
              "      <td>61.265124</td>\n",
              "    </tr>\n",
              "    <tr>\n",
              "      <th>Yes</th>\n",
              "      <td>0.254682</td>\n",
              "      <td>17.979133</td>\n",
              "      <td>74.441332</td>\n",
              "    </tr>\n",
              "  </tbody>\n",
              "</table>\n",
              "</div>\n",
              "      <button class=\"colab-df-convert\" onclick=\"convertToInteractive('df-821b55e4-63e6-40ef-b110-0b0cf4544974')\"\n",
              "              title=\"Convert this dataframe to an interactive table.\"\n",
              "              style=\"display:none;\">\n",
              "        \n",
              "  <svg xmlns=\"http://www.w3.org/2000/svg\" height=\"24px\"viewBox=\"0 0 24 24\"\n",
              "       width=\"24px\">\n",
              "    <path d=\"M0 0h24v24H0V0z\" fill=\"none\"/>\n",
              "    <path d=\"M18.56 5.44l.94 2.06.94-2.06 2.06-.94-2.06-.94-.94-2.06-.94 2.06-2.06.94zm-11 1L8.5 8.5l.94-2.06 2.06-.94-2.06-.94L8.5 2.5l-.94 2.06-2.06.94zm10 10l.94 2.06.94-2.06 2.06-.94-2.06-.94-.94-2.06-.94 2.06-2.06.94z\"/><path d=\"M17.41 7.96l-1.37-1.37c-.4-.4-.92-.59-1.43-.59-.52 0-1.04.2-1.43.59L10.3 9.45l-7.72 7.72c-.78.78-.78 2.05 0 2.83L4 21.41c.39.39.9.59 1.41.59.51 0 1.02-.2 1.41-.59l7.78-7.78 2.81-2.81c.8-.78.8-2.07 0-2.86zM5.41 20L4 18.59l7.72-7.72 1.47 1.35L5.41 20z\"/>\n",
              "  </svg>\n",
              "      </button>\n",
              "      \n",
              "  <style>\n",
              "    .colab-df-container {\n",
              "      display:flex;\n",
              "      flex-wrap:wrap;\n",
              "      gap: 12px;\n",
              "    }\n",
              "\n",
              "    .colab-df-convert {\n",
              "      background-color: #E8F0FE;\n",
              "      border: none;\n",
              "      border-radius: 50%;\n",
              "      cursor: pointer;\n",
              "      display: none;\n",
              "      fill: #1967D2;\n",
              "      height: 32px;\n",
              "      padding: 0 0 0 0;\n",
              "      width: 32px;\n",
              "    }\n",
              "\n",
              "    .colab-df-convert:hover {\n",
              "      background-color: #E2EBFA;\n",
              "      box-shadow: 0px 1px 2px rgba(60, 64, 67, 0.3), 0px 1px 3px 1px rgba(60, 64, 67, 0.15);\n",
              "      fill: #174EA6;\n",
              "    }\n",
              "\n",
              "    [theme=dark] .colab-df-convert {\n",
              "      background-color: #3B4455;\n",
              "      fill: #D2E3FC;\n",
              "    }\n",
              "\n",
              "    [theme=dark] .colab-df-convert:hover {\n",
              "      background-color: #434B5C;\n",
              "      box-shadow: 0px 1px 3px 1px rgba(0, 0, 0, 0.15);\n",
              "      filter: drop-shadow(0px 1px 2px rgba(0, 0, 0, 0.3));\n",
              "      fill: #FFFFFF;\n",
              "    }\n",
              "  </style>\n",
              "\n",
              "      <script>\n",
              "        const buttonEl =\n",
              "          document.querySelector('#df-821b55e4-63e6-40ef-b110-0b0cf4544974 button.colab-df-convert');\n",
              "        buttonEl.style.display =\n",
              "          google.colab.kernel.accessAllowed ? 'block' : 'none';\n",
              "\n",
              "        async function convertToInteractive(key) {\n",
              "          const element = document.querySelector('#df-821b55e4-63e6-40ef-b110-0b0cf4544974');\n",
              "          const dataTable =\n",
              "            await google.colab.kernel.invokeFunction('convertToInteractive',\n",
              "                                                     [key], {});\n",
              "          if (!dataTable) return;\n",
              "\n",
              "          const docLinkHtml = 'Like what you see? Visit the ' +\n",
              "            '<a target=\"_blank\" href=https://colab.research.google.com/notebooks/data_table.ipynb>data table notebook</a>'\n",
              "            + ' to learn more about interactive tables.';\n",
              "          element.innerHTML = '';\n",
              "          dataTable['output_type'] = 'display_data';\n",
              "          await google.colab.output.renderOutput(dataTable, element);\n",
              "          const docLink = document.createElement('div');\n",
              "          docLink.innerHTML = docLinkHtml;\n",
              "          element.appendChild(docLink);\n",
              "        }\n",
              "      </script>\n",
              "    </div>\n",
              "  </div>\n",
              "  "
            ]
          },
          "metadata": {},
          "execution_count": 45
        }
      ]
    },
    {
      "cell_type": "code",
      "source": [
        ""
      ],
      "metadata": {
        "id": "UxQhRPonQGwy"
      },
      "execution_count": null,
      "outputs": []
    },
    {
      "cell_type": "code",
      "source": [
        "df.groupby('Contract').mean()"
      ],
      "metadata": {
        "colab": {
          "base_uri": "https://localhost:8080/",
          "height": 175
        },
        "id": "iANQO-gaQG27",
        "outputId": "563f0ee6-a928-4790-e934-01a40e429fee"
      },
      "execution_count": null,
      "outputs": [
        {
          "output_type": "execute_result",
          "data": {
            "text/plain": [
              "                SeniorCitizen     tenure  MonthlyCharges\n",
              "Contract                                                \n",
              "Month-to-month       0.208258  18.036645       66.398490\n",
              "One year             0.128988  42.044807       65.048608\n",
              "Two year             0.085546  56.735103       60.770413"
            ],
            "text/html": [
              "\n",
              "  <div id=\"df-c943228d-81da-4f3b-9fa2-44d34a185a48\">\n",
              "    <div class=\"colab-df-container\">\n",
              "      <div>\n",
              "<style scoped>\n",
              "    .dataframe tbody tr th:only-of-type {\n",
              "        vertical-align: middle;\n",
              "    }\n",
              "\n",
              "    .dataframe tbody tr th {\n",
              "        vertical-align: top;\n",
              "    }\n",
              "\n",
              "    .dataframe thead th {\n",
              "        text-align: right;\n",
              "    }\n",
              "</style>\n",
              "<table border=\"1\" class=\"dataframe\">\n",
              "  <thead>\n",
              "    <tr style=\"text-align: right;\">\n",
              "      <th></th>\n",
              "      <th>SeniorCitizen</th>\n",
              "      <th>tenure</th>\n",
              "      <th>MonthlyCharges</th>\n",
              "    </tr>\n",
              "    <tr>\n",
              "      <th>Contract</th>\n",
              "      <th></th>\n",
              "      <th></th>\n",
              "      <th></th>\n",
              "    </tr>\n",
              "  </thead>\n",
              "  <tbody>\n",
              "    <tr>\n",
              "      <th>Month-to-month</th>\n",
              "      <td>0.208258</td>\n",
              "      <td>18.036645</td>\n",
              "      <td>66.398490</td>\n",
              "    </tr>\n",
              "    <tr>\n",
              "      <th>One year</th>\n",
              "      <td>0.128988</td>\n",
              "      <td>42.044807</td>\n",
              "      <td>65.048608</td>\n",
              "    </tr>\n",
              "    <tr>\n",
              "      <th>Two year</th>\n",
              "      <td>0.085546</td>\n",
              "      <td>56.735103</td>\n",
              "      <td>60.770413</td>\n",
              "    </tr>\n",
              "  </tbody>\n",
              "</table>\n",
              "</div>\n",
              "      <button class=\"colab-df-convert\" onclick=\"convertToInteractive('df-c943228d-81da-4f3b-9fa2-44d34a185a48')\"\n",
              "              title=\"Convert this dataframe to an interactive table.\"\n",
              "              style=\"display:none;\">\n",
              "        \n",
              "  <svg xmlns=\"http://www.w3.org/2000/svg\" height=\"24px\"viewBox=\"0 0 24 24\"\n",
              "       width=\"24px\">\n",
              "    <path d=\"M0 0h24v24H0V0z\" fill=\"none\"/>\n",
              "    <path d=\"M18.56 5.44l.94 2.06.94-2.06 2.06-.94-2.06-.94-.94-2.06-.94 2.06-2.06.94zm-11 1L8.5 8.5l.94-2.06 2.06-.94-2.06-.94L8.5 2.5l-.94 2.06-2.06.94zm10 10l.94 2.06.94-2.06 2.06-.94-2.06-.94-.94-2.06-.94 2.06-2.06.94z\"/><path d=\"M17.41 7.96l-1.37-1.37c-.4-.4-.92-.59-1.43-.59-.52 0-1.04.2-1.43.59L10.3 9.45l-7.72 7.72c-.78.78-.78 2.05 0 2.83L4 21.41c.39.39.9.59 1.41.59.51 0 1.02-.2 1.41-.59l7.78-7.78 2.81-2.81c.8-.78.8-2.07 0-2.86zM5.41 20L4 18.59l7.72-7.72 1.47 1.35L5.41 20z\"/>\n",
              "  </svg>\n",
              "      </button>\n",
              "      \n",
              "  <style>\n",
              "    .colab-df-container {\n",
              "      display:flex;\n",
              "      flex-wrap:wrap;\n",
              "      gap: 12px;\n",
              "    }\n",
              "\n",
              "    .colab-df-convert {\n",
              "      background-color: #E8F0FE;\n",
              "      border: none;\n",
              "      border-radius: 50%;\n",
              "      cursor: pointer;\n",
              "      display: none;\n",
              "      fill: #1967D2;\n",
              "      height: 32px;\n",
              "      padding: 0 0 0 0;\n",
              "      width: 32px;\n",
              "    }\n",
              "\n",
              "    .colab-df-convert:hover {\n",
              "      background-color: #E2EBFA;\n",
              "      box-shadow: 0px 1px 2px rgba(60, 64, 67, 0.3), 0px 1px 3px 1px rgba(60, 64, 67, 0.15);\n",
              "      fill: #174EA6;\n",
              "    }\n",
              "\n",
              "    [theme=dark] .colab-df-convert {\n",
              "      background-color: #3B4455;\n",
              "      fill: #D2E3FC;\n",
              "    }\n",
              "\n",
              "    [theme=dark] .colab-df-convert:hover {\n",
              "      background-color: #434B5C;\n",
              "      box-shadow: 0px 1px 3px 1px rgba(0, 0, 0, 0.15);\n",
              "      filter: drop-shadow(0px 1px 2px rgba(0, 0, 0, 0.3));\n",
              "      fill: #FFFFFF;\n",
              "    }\n",
              "  </style>\n",
              "\n",
              "      <script>\n",
              "        const buttonEl =\n",
              "          document.querySelector('#df-c943228d-81da-4f3b-9fa2-44d34a185a48 button.colab-df-convert');\n",
              "        buttonEl.style.display =\n",
              "          google.colab.kernel.accessAllowed ? 'block' : 'none';\n",
              "\n",
              "        async function convertToInteractive(key) {\n",
              "          const element = document.querySelector('#df-c943228d-81da-4f3b-9fa2-44d34a185a48');\n",
              "          const dataTable =\n",
              "            await google.colab.kernel.invokeFunction('convertToInteractive',\n",
              "                                                     [key], {});\n",
              "          if (!dataTable) return;\n",
              "\n",
              "          const docLinkHtml = 'Like what you see? Visit the ' +\n",
              "            '<a target=\"_blank\" href=https://colab.research.google.com/notebooks/data_table.ipynb>data table notebook</a>'\n",
              "            + ' to learn more about interactive tables.';\n",
              "          element.innerHTML = '';\n",
              "          dataTable['output_type'] = 'display_data';\n",
              "          await google.colab.output.renderOutput(dataTable, element);\n",
              "          const docLink = document.createElement('div');\n",
              "          docLink.innerHTML = docLinkHtml;\n",
              "          element.appendChild(docLink);\n",
              "        }\n",
              "      </script>\n",
              "    </div>\n",
              "  </div>\n",
              "  "
            ]
          },
          "metadata": {},
          "execution_count": 47
        }
      ]
    },
    {
      "cell_type": "code",
      "source": [
        "df.groupby('InternetService').mean()"
      ],
      "metadata": {
        "colab": {
          "base_uri": "https://localhost:8080/",
          "height": 175
        },
        "id": "qlqcdGhhQI6z",
        "outputId": "c821bd0e-b026-4c3f-f128-849850aad24c"
      },
      "execution_count": null,
      "outputs": [
        {
          "output_type": "execute_result",
          "data": {
            "text/plain": [
              "                 SeniorCitizen     tenure  MonthlyCharges\n",
              "InternetService                                          \n",
              "DSL                   0.106981  32.821561       58.102169\n",
              "Fiber optic           0.268411  32.917959       91.500129\n",
              "No                    0.034076  30.547182       21.079194"
            ],
            "text/html": [
              "\n",
              "  <div id=\"df-e165211b-565f-4f8d-bead-e95e0c927630\">\n",
              "    <div class=\"colab-df-container\">\n",
              "      <div>\n",
              "<style scoped>\n",
              "    .dataframe tbody tr th:only-of-type {\n",
              "        vertical-align: middle;\n",
              "    }\n",
              "\n",
              "    .dataframe tbody tr th {\n",
              "        vertical-align: top;\n",
              "    }\n",
              "\n",
              "    .dataframe thead th {\n",
              "        text-align: right;\n",
              "    }\n",
              "</style>\n",
              "<table border=\"1\" class=\"dataframe\">\n",
              "  <thead>\n",
              "    <tr style=\"text-align: right;\">\n",
              "      <th></th>\n",
              "      <th>SeniorCitizen</th>\n",
              "      <th>tenure</th>\n",
              "      <th>MonthlyCharges</th>\n",
              "    </tr>\n",
              "    <tr>\n",
              "      <th>InternetService</th>\n",
              "      <th></th>\n",
              "      <th></th>\n",
              "      <th></th>\n",
              "    </tr>\n",
              "  </thead>\n",
              "  <tbody>\n",
              "    <tr>\n",
              "      <th>DSL</th>\n",
              "      <td>0.106981</td>\n",
              "      <td>32.821561</td>\n",
              "      <td>58.102169</td>\n",
              "    </tr>\n",
              "    <tr>\n",
              "      <th>Fiber optic</th>\n",
              "      <td>0.268411</td>\n",
              "      <td>32.917959</td>\n",
              "      <td>91.500129</td>\n",
              "    </tr>\n",
              "    <tr>\n",
              "      <th>No</th>\n",
              "      <td>0.034076</td>\n",
              "      <td>30.547182</td>\n",
              "      <td>21.079194</td>\n",
              "    </tr>\n",
              "  </tbody>\n",
              "</table>\n",
              "</div>\n",
              "      <button class=\"colab-df-convert\" onclick=\"convertToInteractive('df-e165211b-565f-4f8d-bead-e95e0c927630')\"\n",
              "              title=\"Convert this dataframe to an interactive table.\"\n",
              "              style=\"display:none;\">\n",
              "        \n",
              "  <svg xmlns=\"http://www.w3.org/2000/svg\" height=\"24px\"viewBox=\"0 0 24 24\"\n",
              "       width=\"24px\">\n",
              "    <path d=\"M0 0h24v24H0V0z\" fill=\"none\"/>\n",
              "    <path d=\"M18.56 5.44l.94 2.06.94-2.06 2.06-.94-2.06-.94-.94-2.06-.94 2.06-2.06.94zm-11 1L8.5 8.5l.94-2.06 2.06-.94-2.06-.94L8.5 2.5l-.94 2.06-2.06.94zm10 10l.94 2.06.94-2.06 2.06-.94-2.06-.94-.94-2.06-.94 2.06-2.06.94z\"/><path d=\"M17.41 7.96l-1.37-1.37c-.4-.4-.92-.59-1.43-.59-.52 0-1.04.2-1.43.59L10.3 9.45l-7.72 7.72c-.78.78-.78 2.05 0 2.83L4 21.41c.39.39.9.59 1.41.59.51 0 1.02-.2 1.41-.59l7.78-7.78 2.81-2.81c.8-.78.8-2.07 0-2.86zM5.41 20L4 18.59l7.72-7.72 1.47 1.35L5.41 20z\"/>\n",
              "  </svg>\n",
              "      </button>\n",
              "      \n",
              "  <style>\n",
              "    .colab-df-container {\n",
              "      display:flex;\n",
              "      flex-wrap:wrap;\n",
              "      gap: 12px;\n",
              "    }\n",
              "\n",
              "    .colab-df-convert {\n",
              "      background-color: #E8F0FE;\n",
              "      border: none;\n",
              "      border-radius: 50%;\n",
              "      cursor: pointer;\n",
              "      display: none;\n",
              "      fill: #1967D2;\n",
              "      height: 32px;\n",
              "      padding: 0 0 0 0;\n",
              "      width: 32px;\n",
              "    }\n",
              "\n",
              "    .colab-df-convert:hover {\n",
              "      background-color: #E2EBFA;\n",
              "      box-shadow: 0px 1px 2px rgba(60, 64, 67, 0.3), 0px 1px 3px 1px rgba(60, 64, 67, 0.15);\n",
              "      fill: #174EA6;\n",
              "    }\n",
              "\n",
              "    [theme=dark] .colab-df-convert {\n",
              "      background-color: #3B4455;\n",
              "      fill: #D2E3FC;\n",
              "    }\n",
              "\n",
              "    [theme=dark] .colab-df-convert:hover {\n",
              "      background-color: #434B5C;\n",
              "      box-shadow: 0px 1px 3px 1px rgba(0, 0, 0, 0.15);\n",
              "      filter: drop-shadow(0px 1px 2px rgba(0, 0, 0, 0.3));\n",
              "      fill: #FFFFFF;\n",
              "    }\n",
              "  </style>\n",
              "\n",
              "      <script>\n",
              "        const buttonEl =\n",
              "          document.querySelector('#df-e165211b-565f-4f8d-bead-e95e0c927630 button.colab-df-convert');\n",
              "        buttonEl.style.display =\n",
              "          google.colab.kernel.accessAllowed ? 'block' : 'none';\n",
              "\n",
              "        async function convertToInteractive(key) {\n",
              "          const element = document.querySelector('#df-e165211b-565f-4f8d-bead-e95e0c927630');\n",
              "          const dataTable =\n",
              "            await google.colab.kernel.invokeFunction('convertToInteractive',\n",
              "                                                     [key], {});\n",
              "          if (!dataTable) return;\n",
              "\n",
              "          const docLinkHtml = 'Like what you see? Visit the ' +\n",
              "            '<a target=\"_blank\" href=https://colab.research.google.com/notebooks/data_table.ipynb>data table notebook</a>'\n",
              "            + ' to learn more about interactive tables.';\n",
              "          element.innerHTML = '';\n",
              "          dataTable['output_type'] = 'display_data';\n",
              "          await google.colab.output.renderOutput(dataTable, element);\n",
              "          const docLink = document.createElement('div');\n",
              "          docLink.innerHTML = docLinkHtml;\n",
              "          element.appendChild(docLink);\n",
              "        }\n",
              "      </script>\n",
              "    </div>\n",
              "  </div>\n",
              "  "
            ]
          },
          "metadata": {},
          "execution_count": 48
        }
      ]
    },
    {
      "cell_type": "code",
      "source": [
        "df.groupby('TotalCharges').mean()"
      ],
      "metadata": {
        "colab": {
          "base_uri": "https://localhost:8080/",
          "height": 455
        },
        "id": "b2h_xi-DQMz0",
        "outputId": "cbc0904b-dcef-4c48-abe0-97f068c55e43"
      },
      "execution_count": null,
      "outputs": [
        {
          "output_type": "execute_result",
          "data": {
            "text/plain": [
              "              SeniorCitizen  tenure  MonthlyCharges\n",
              "TotalCharges                                       \n",
              "                        0.0     0.0       41.418182\n",
              "100.2                   0.0     5.0       24.300000\n",
              "100.25                  0.0     1.0      100.250000\n",
              "100.35                  0.0     6.0       20.100000\n",
              "100.4                   0.0     5.0       24.950000\n",
              "...                     ...     ...             ...\n",
              "997.75                  0.0    51.0       19.400000\n",
              "998.1                   0.0    55.0       19.150000\n",
              "999.45                  0.0    13.0       75.000000\n",
              "999.8                   0.0    12.0       85.050000\n",
              "999.9                   0.0    11.0       94.200000\n",
              "\n",
              "[6531 rows x 3 columns]"
            ],
            "text/html": [
              "\n",
              "  <div id=\"df-cd0bfd5b-4d6a-4aae-af06-d3ebc27f5716\">\n",
              "    <div class=\"colab-df-container\">\n",
              "      <div>\n",
              "<style scoped>\n",
              "    .dataframe tbody tr th:only-of-type {\n",
              "        vertical-align: middle;\n",
              "    }\n",
              "\n",
              "    .dataframe tbody tr th {\n",
              "        vertical-align: top;\n",
              "    }\n",
              "\n",
              "    .dataframe thead th {\n",
              "        text-align: right;\n",
              "    }\n",
              "</style>\n",
              "<table border=\"1\" class=\"dataframe\">\n",
              "  <thead>\n",
              "    <tr style=\"text-align: right;\">\n",
              "      <th></th>\n",
              "      <th>SeniorCitizen</th>\n",
              "      <th>tenure</th>\n",
              "      <th>MonthlyCharges</th>\n",
              "    </tr>\n",
              "    <tr>\n",
              "      <th>TotalCharges</th>\n",
              "      <th></th>\n",
              "      <th></th>\n",
              "      <th></th>\n",
              "    </tr>\n",
              "  </thead>\n",
              "  <tbody>\n",
              "    <tr>\n",
              "      <th></th>\n",
              "      <td>0.0</td>\n",
              "      <td>0.0</td>\n",
              "      <td>41.418182</td>\n",
              "    </tr>\n",
              "    <tr>\n",
              "      <th>100.2</th>\n",
              "      <td>0.0</td>\n",
              "      <td>5.0</td>\n",
              "      <td>24.300000</td>\n",
              "    </tr>\n",
              "    <tr>\n",
              "      <th>100.25</th>\n",
              "      <td>0.0</td>\n",
              "      <td>1.0</td>\n",
              "      <td>100.250000</td>\n",
              "    </tr>\n",
              "    <tr>\n",
              "      <th>100.35</th>\n",
              "      <td>0.0</td>\n",
              "      <td>6.0</td>\n",
              "      <td>20.100000</td>\n",
              "    </tr>\n",
              "    <tr>\n",
              "      <th>100.4</th>\n",
              "      <td>0.0</td>\n",
              "      <td>5.0</td>\n",
              "      <td>24.950000</td>\n",
              "    </tr>\n",
              "    <tr>\n",
              "      <th>...</th>\n",
              "      <td>...</td>\n",
              "      <td>...</td>\n",
              "      <td>...</td>\n",
              "    </tr>\n",
              "    <tr>\n",
              "      <th>997.75</th>\n",
              "      <td>0.0</td>\n",
              "      <td>51.0</td>\n",
              "      <td>19.400000</td>\n",
              "    </tr>\n",
              "    <tr>\n",
              "      <th>998.1</th>\n",
              "      <td>0.0</td>\n",
              "      <td>55.0</td>\n",
              "      <td>19.150000</td>\n",
              "    </tr>\n",
              "    <tr>\n",
              "      <th>999.45</th>\n",
              "      <td>0.0</td>\n",
              "      <td>13.0</td>\n",
              "      <td>75.000000</td>\n",
              "    </tr>\n",
              "    <tr>\n",
              "      <th>999.8</th>\n",
              "      <td>0.0</td>\n",
              "      <td>12.0</td>\n",
              "      <td>85.050000</td>\n",
              "    </tr>\n",
              "    <tr>\n",
              "      <th>999.9</th>\n",
              "      <td>0.0</td>\n",
              "      <td>11.0</td>\n",
              "      <td>94.200000</td>\n",
              "    </tr>\n",
              "  </tbody>\n",
              "</table>\n",
              "<p>6531 rows × 3 columns</p>\n",
              "</div>\n",
              "      <button class=\"colab-df-convert\" onclick=\"convertToInteractive('df-cd0bfd5b-4d6a-4aae-af06-d3ebc27f5716')\"\n",
              "              title=\"Convert this dataframe to an interactive table.\"\n",
              "              style=\"display:none;\">\n",
              "        \n",
              "  <svg xmlns=\"http://www.w3.org/2000/svg\" height=\"24px\"viewBox=\"0 0 24 24\"\n",
              "       width=\"24px\">\n",
              "    <path d=\"M0 0h24v24H0V0z\" fill=\"none\"/>\n",
              "    <path d=\"M18.56 5.44l.94 2.06.94-2.06 2.06-.94-2.06-.94-.94-2.06-.94 2.06-2.06.94zm-11 1L8.5 8.5l.94-2.06 2.06-.94-2.06-.94L8.5 2.5l-.94 2.06-2.06.94zm10 10l.94 2.06.94-2.06 2.06-.94-2.06-.94-.94-2.06-.94 2.06-2.06.94z\"/><path d=\"M17.41 7.96l-1.37-1.37c-.4-.4-.92-.59-1.43-.59-.52 0-1.04.2-1.43.59L10.3 9.45l-7.72 7.72c-.78.78-.78 2.05 0 2.83L4 21.41c.39.39.9.59 1.41.59.51 0 1.02-.2 1.41-.59l7.78-7.78 2.81-2.81c.8-.78.8-2.07 0-2.86zM5.41 20L4 18.59l7.72-7.72 1.47 1.35L5.41 20z\"/>\n",
              "  </svg>\n",
              "      </button>\n",
              "      \n",
              "  <style>\n",
              "    .colab-df-container {\n",
              "      display:flex;\n",
              "      flex-wrap:wrap;\n",
              "      gap: 12px;\n",
              "    }\n",
              "\n",
              "    .colab-df-convert {\n",
              "      background-color: #E8F0FE;\n",
              "      border: none;\n",
              "      border-radius: 50%;\n",
              "      cursor: pointer;\n",
              "      display: none;\n",
              "      fill: #1967D2;\n",
              "      height: 32px;\n",
              "      padding: 0 0 0 0;\n",
              "      width: 32px;\n",
              "    }\n",
              "\n",
              "    .colab-df-convert:hover {\n",
              "      background-color: #E2EBFA;\n",
              "      box-shadow: 0px 1px 2px rgba(60, 64, 67, 0.3), 0px 1px 3px 1px rgba(60, 64, 67, 0.15);\n",
              "      fill: #174EA6;\n",
              "    }\n",
              "\n",
              "    [theme=dark] .colab-df-convert {\n",
              "      background-color: #3B4455;\n",
              "      fill: #D2E3FC;\n",
              "    }\n",
              "\n",
              "    [theme=dark] .colab-df-convert:hover {\n",
              "      background-color: #434B5C;\n",
              "      box-shadow: 0px 1px 3px 1px rgba(0, 0, 0, 0.15);\n",
              "      filter: drop-shadow(0px 1px 2px rgba(0, 0, 0, 0.3));\n",
              "      fill: #FFFFFF;\n",
              "    }\n",
              "  </style>\n",
              "\n",
              "      <script>\n",
              "        const buttonEl =\n",
              "          document.querySelector('#df-cd0bfd5b-4d6a-4aae-af06-d3ebc27f5716 button.colab-df-convert');\n",
              "        buttonEl.style.display =\n",
              "          google.colab.kernel.accessAllowed ? 'block' : 'none';\n",
              "\n",
              "        async function convertToInteractive(key) {\n",
              "          const element = document.querySelector('#df-cd0bfd5b-4d6a-4aae-af06-d3ebc27f5716');\n",
              "          const dataTable =\n",
              "            await google.colab.kernel.invokeFunction('convertToInteractive',\n",
              "                                                     [key], {});\n",
              "          if (!dataTable) return;\n",
              "\n",
              "          const docLinkHtml = 'Like what you see? Visit the ' +\n",
              "            '<a target=\"_blank\" href=https://colab.research.google.com/notebooks/data_table.ipynb>data table notebook</a>'\n",
              "            + ' to learn more about interactive tables.';\n",
              "          element.innerHTML = '';\n",
              "          dataTable['output_type'] = 'display_data';\n",
              "          await google.colab.output.renderOutput(dataTable, element);\n",
              "          const docLink = document.createElement('div');\n",
              "          docLink.innerHTML = docLinkHtml;\n",
              "          element.appendChild(docLink);\n",
              "        }\n",
              "      </script>\n",
              "    </div>\n",
              "  </div>\n",
              "  "
            ]
          },
          "metadata": {},
          "execution_count": 49
        }
      ]
    }
  ],
  "metadata": {
    "colab": {
      "collapsed_sections": [],
      "name": "Copy of Copy of Welcome To Colaboratory",
      "toc_visible": true,
      "provenance": [],
      "include_colab_link": true
    },
    "kernelspec": {
      "display_name": "Python 3",
      "name": "python3"
    }
  },
  "nbformat": 4,
  "nbformat_minor": 0
}